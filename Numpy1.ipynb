{
  "cells": [
    {
      "cell_type": "code",
      "execution_count": null,
      "metadata": {
        "id": "2JtoInWM3ld9",
        "outputId": "991af961-4ed6-4a4f-9c0e-0f165f9bb9dc"
      },
      "outputs": [
        {
          "name": "stdout",
          "output_type": "stream",
          "text": [
            "Requirement already satisfied: numpy in c:\\users\\kirande\\anaconda3\\lib\\site-packages (1.20.3)Note: you may need to restart the kernel to use updated packages.\n",
            "\n"
          ]
        }
      ],
      "source": [
        "pip install numpy"
      ]
    },
    {
      "cell_type": "markdown",
      "metadata": {
        "id": "2JkRjxqF3leA"
      },
      "source": [
        "# I Am learning Numpy"
      ]
    },
    {
      "cell_type": "code",
      "execution_count": null,
      "metadata": {
        "id": "hLGxdMAH3leB",
        "colab": {
          "base_uri": "https://localhost:8080/"
        },
        "outputId": "1355918d-a098-4692-83f3-0e7f5b732222"
      },
      "outputs": [
        {
          "output_type": "stream",
          "name": "stdout",
          "text": [
            "[[2 4 6]\n",
            " [5 6 9]\n",
            " [3 4 5]\n",
            " [1 2 3]]\n",
            "(4, 3)\n",
            "<class 'numpy.ndarray'>\n"
          ]
        }
      ],
      "source": [
        "#4*3\n",
        "import numpy as np\n",
        "a = np.array([[2, 4, 6],[5, 6, 9],[3,4,5],[1,2,3]])\n",
        "print(a)\n",
        "print(a.shape)\n",
        "print(type(a))\n"
      ]
    },
    {
      "cell_type": "code",
      "execution_count": null,
      "metadata": {
        "id": "GQtSDRZG3leC",
        "colab": {
          "base_uri": "https://localhost:8080/"
        },
        "outputId": "1e9418b3-0138-4ff1-b297-9b3a692b06b0"
      },
      "outputs": [
        {
          "output_type": "stream",
          "name": "stdout",
          "text": [
            "[[0 0 0 0]\n",
            " [0 0 0 0]\n",
            " [0 0 0 0]]\n"
          ]
        }
      ],
      "source": [
        "print(np.zeros((3,4),dtype=int))"
      ]
    },
    {
      "cell_type": "code",
      "source": [
        "help(np.zeros)"
      ],
      "metadata": {
        "colab": {
          "base_uri": "https://localhost:8080/"
        },
        "id": "l2luUgiaH-PY",
        "outputId": "567933ba-4f02-4f72-de9a-22614657af5b"
      },
      "execution_count": null,
      "outputs": [
        {
          "output_type": "stream",
          "name": "stdout",
          "text": [
            "Help on built-in function zeros in module numpy:\n",
            "\n",
            "zeros(...)\n",
            "    zeros(shape, dtype=float, order='C', *, like=None)\n",
            "    \n",
            "    Return a new array of given shape and type, filled with zeros.\n",
            "    \n",
            "    Parameters\n",
            "    ----------\n",
            "    shape : int or tuple of ints\n",
            "        Shape of the new array, e.g., ``(2, 3)`` or ``2``.\n",
            "    dtype : data-type, optional\n",
            "        The desired data-type for the array, e.g., `numpy.int8`.  Default is\n",
            "        `numpy.float64`.\n",
            "    order : {'C', 'F'}, optional, default: 'C'\n",
            "        Whether to store multi-dimensional data in row-major\n",
            "        (C-style) or column-major (Fortran-style) order in\n",
            "        memory.\n",
            "    like : array_like, optional\n",
            "        Reference object to allow the creation of arrays which are not\n",
            "        NumPy arrays. If an array-like passed in as ``like`` supports\n",
            "        the ``__array_function__`` protocol, the result will be defined\n",
            "        by it. In this case, it ensures the creation of an array object\n",
            "        compatible with that passed in via this argument.\n",
            "    \n",
            "        .. versionadded:: 1.20.0\n",
            "    \n",
            "    Returns\n",
            "    -------\n",
            "    out : ndarray\n",
            "        Array of zeros with the given shape, dtype, and order.\n",
            "    \n",
            "    See Also\n",
            "    --------\n",
            "    zeros_like : Return an array of zeros with shape and type of input.\n",
            "    empty : Return a new uninitialized array.\n",
            "    ones : Return a new array setting values to one.\n",
            "    full : Return a new array of given shape filled with value.\n",
            "    \n",
            "    Examples\n",
            "    --------\n",
            "    >>> np.zeros(5)\n",
            "    array([ 0.,  0.,  0.,  0.,  0.])\n",
            "    \n",
            "    >>> np.zeros((5,), dtype=int)\n",
            "    array([0, 0, 0, 0, 0])\n",
            "    \n",
            "    >>> np.zeros((2, 1))\n",
            "    array([[ 0.],\n",
            "           [ 0.]])\n",
            "    \n",
            "    >>> s = (2,2)\n",
            "    >>> np.zeros(s)\n",
            "    array([[ 0.,  0.],\n",
            "           [ 0.,  0.]])\n",
            "    \n",
            "    >>> np.zeros((2,), dtype=[('x', 'i4'), ('y', 'i4')]) # custom dtype\n",
            "    array([(0, 0), (0, 0)],\n",
            "          dtype=[('x', '<i4'), ('y', '<i4')])\n",
            "\n"
          ]
        }
      ]
    },
    {
      "cell_type": "code",
      "execution_count": null,
      "metadata": {
        "id": "Zvx82X893leC",
        "outputId": "b22e5f2d-5570-47be-e8d3-07c21b52e595"
      },
      "outputs": [
        {
          "name": "stdout",
          "output_type": "stream",
          "text": [
            "<class 'numpy.ndarray'>\n"
          ]
        }
      ],
      "source": [
        "print(type(a))"
      ]
    },
    {
      "cell_type": "code",
      "source": [
        "import numpy as np\n",
        "\n",
        "a = np.arange(1,21)\n",
        "a"
      ],
      "metadata": {
        "colab": {
          "base_uri": "https://localhost:8080/"
        },
        "id": "4xGmtRZfSTSc",
        "outputId": "c4992d89-25c5-447a-d8ab-641b7e2d627e"
      },
      "execution_count": null,
      "outputs": [
        {
          "output_type": "execute_result",
          "data": {
            "text/plain": [
              "array([ 1,  2,  3,  4,  5,  6,  7,  8,  9, 10, 11, 12, 13, 14, 15, 16, 17,\n",
              "       18, 19, 20])"
            ]
          },
          "metadata": {},
          "execution_count": 2
        }
      ]
    },
    {
      "cell_type": "code",
      "execution_count": null,
      "metadata": {
        "colab": {
          "base_uri": "https://localhost:8080/"
        },
        "id": "CA7ZkBPX3leD",
        "outputId": "38ba45e2-40d7-4267-c79c-b946925fa1d3"
      },
      "outputs": [
        {
          "output_type": "stream",
          "name": "stdout",
          "text": [
            "with print [[ 1  2  3  4  5]\n",
            " [ 6  7  8  9 10]\n",
            " [11 12 13 14 15]\n",
            " [16 17 18 19 20]]\n",
            "[[ 1  2  3  4  5]\n",
            " [ 6  7  8  9 10]\n",
            " [11 12 13 14 15]\n",
            " [16 17 18 19 20]]\n"
          ]
        },
        {
          "output_type": "execute_result",
          "data": {
            "text/plain": [
              "array([[ 1,  2,  3,  4,  5],\n",
              "       [ 6,  7,  8,  9, 10],\n",
              "       [11, 12, 13, 14, 15],\n",
              "       [16, 17, 18, 19, 20]])"
            ]
          },
          "metadata": {},
          "execution_count": 3
        }
      ],
      "source": [
        "import numpy as np\n",
        "\n",
        "a = np.arange(1,21).reshape(4,5)\n",
        "print('with print',a)\n",
        "print(a)\n",
        "a"
      ]
    },
    {
      "cell_type": "code",
      "source": [],
      "metadata": {
        "id": "BNiOVxGvbHh3"
      },
      "execution_count": null,
      "outputs": []
    },
    {
      "cell_type": "code",
      "source": [
        "b= np.arange(1,26).reshape(5,4)           #(From Value, (to value -1))\n",
        "b"
      ],
      "metadata": {
        "colab": {
          "base_uri": "https://localhost:8080/",
          "height": 165
        },
        "id": "oy97nJkKbH65",
        "outputId": "cc33df5a-1bae-44b4-c2a9-8ba9deeb522f"
      },
      "execution_count": null,
      "outputs": [
        {
          "output_type": "error",
          "ename": "ValueError",
          "evalue": "cannot reshape array of size 25 into shape (5,4)",
          "traceback": [
            "\u001b[0;31m---------------------------------------------------------------------------\u001b[0m",
            "\u001b[0;31mValueError\u001b[0m                                Traceback (most recent call last)",
            "\u001b[0;32m<ipython-input-7-c30b5d001aec>\u001b[0m in \u001b[0;36m<cell line: 1>\u001b[0;34m()\u001b[0m\n\u001b[0;32m----> 1\u001b[0;31m \u001b[0mb\u001b[0m\u001b[0;34m=\u001b[0m \u001b[0mnp\u001b[0m\u001b[0;34m.\u001b[0m\u001b[0marange\u001b[0m\u001b[0;34m(\u001b[0m\u001b[0;36m1\u001b[0m\u001b[0;34m,\u001b[0m\u001b[0;36m26\u001b[0m\u001b[0;34m)\u001b[0m\u001b[0;34m.\u001b[0m\u001b[0mreshape\u001b[0m\u001b[0;34m(\u001b[0m\u001b[0;36m5\u001b[0m\u001b[0;34m,\u001b[0m\u001b[0;36m4\u001b[0m\u001b[0;34m)\u001b[0m           \u001b[0;31m#(From Value, (to value -1))\u001b[0m\u001b[0;34m\u001b[0m\u001b[0;34m\u001b[0m\u001b[0m\n\u001b[0m\u001b[1;32m      2\u001b[0m \u001b[0mb\u001b[0m\u001b[0;34m\u001b[0m\u001b[0;34m\u001b[0m\u001b[0m\n",
            "\u001b[0;31mValueError\u001b[0m: cannot reshape array of size 25 into shape (5,4)"
          ]
        }
      ]
    },
    {
      "cell_type": "code",
      "source": [
        "import numpy as np\n",
        "b= np.arange(1,21).reshape(4,5)\n",
        "      # arange(From index : (To Index - 1))\n",
        "      #          1        : 20\n",
        "b"
      ],
      "metadata": {
        "colab": {
          "base_uri": "https://localhost:8080/"
        },
        "id": "AsUkzDQHo6NC",
        "outputId": "31741736-d0de-48cf-be87-2f4c66db21a9"
      },
      "execution_count": null,
      "outputs": [
        {
          "output_type": "execute_result",
          "data": {
            "text/plain": [
              "array([[ 1,  2,  3,  4,  5],\n",
              "       [ 6,  7,  8,  9, 10],\n",
              "       [11, 12, 13, 14, 15],\n",
              "       [16, 17, 18, 19, 20]])"
            ]
          },
          "metadata": {},
          "execution_count": 4
        }
      ]
    },
    {
      "cell_type": "code",
      "execution_count": null,
      "metadata": {
        "id": "yHuhA5Va3leE",
        "outputId": "1468a335-bc56-4b4c-b492-1be77e8e7b5e",
        "colab": {
          "base_uri": "https://localhost:8080/"
        }
      },
      "outputs": [
        {
          "output_type": "execute_result",
          "data": {
            "text/plain": [
              "[2, 5, 8]"
            ]
          },
          "metadata": {},
          "execution_count": 9
        }
      ],
      "source": [
        "Index0 1 2 3 4 5 6 7 8\n",
        "a = [1,2,3,4,5,6,7,8,9]\n",
        "a[1:9:3]\n",
        "# a[From Index : (To Index -1): Step]"
      ]
    },
    {
      "cell_type": "code",
      "execution_count": null,
      "metadata": {
        "id": "99kfNLXe3leE",
        "outputId": "05d86bda-d5de-4791-d6c0-4157423bc481",
        "colab": {
          "base_uri": "https://localhost:8080/"
        }
      },
      "outputs": [
        {
          "output_type": "stream",
          "name": "stdout",
          "text": [
            "[[ 1  2  3  4  5]\n",
            " [ 6  7  8  9 10]\n",
            " [11 12 13 14 15]\n",
            " [16 17 18 19 20]]\n",
            "(4, 5)\n"
          ]
        }
      ],
      "source": [
        "print(a)\n",
        "print(a.shape)"
      ]
    },
    {
      "cell_type": "code",
      "source": [],
      "metadata": {
        "id": "j6R5DfEbtO00"
      },
      "execution_count": null,
      "outputs": []
    },
    {
      "cell_type": "code",
      "source": [
        "a[:,:]"
      ],
      "metadata": {
        "colab": {
          "base_uri": "https://localhost:8080/"
        },
        "id": "bBaLAQ1lZDTf",
        "outputId": "fdd10056-b5e4-4860-ebfe-3cad80c7ac5a"
      },
      "execution_count": null,
      "outputs": [
        {
          "output_type": "execute_result",
          "data": {
            "text/plain": [
              "array([[ 1,  2,  3,  4,  5],\n",
              "       [ 6,  7,  8,  9, 10],\n",
              "       [11, 12, 13, 14, 15],\n",
              "       [16, 17, 18, 19, 20]])"
            ]
          },
          "metadata": {},
          "execution_count": 15
        }
      ]
    },
    {
      "cell_type": "code",
      "source": [
        "a[0:4,2:4]\n",
        "#a[ Row From Index :(Row To Index -1),Column From Index :(Column To Index -1) ]"
      ],
      "metadata": {
        "colab": {
          "base_uri": "https://localhost:8080/"
        },
        "id": "S7MC_usddgTO",
        "outputId": "bd500482-2f55-4b05-bc5f-4a0faffdbc97"
      },
      "execution_count": null,
      "outputs": [
        {
          "output_type": "execute_result",
          "data": {
            "text/plain": [
              "array([[ 3,  4],\n",
              "       [ 8,  9],\n",
              "       [13, 14],\n",
              "       [18, 19]])"
            ]
          },
          "metadata": {},
          "execution_count": 6
        }
      ]
    },
    {
      "cell_type": "code",
      "source": [
        "a[0:1,2:77]"
      ],
      "metadata": {
        "id": "-YujMaE_mt8m",
        "colab": {
          "base_uri": "https://localhost:8080/"
        },
        "outputId": "e7953266-1f3e-4f25-96e3-02e1f1c813e3"
      },
      "execution_count": null,
      "outputs": [
        {
          "output_type": "execute_result",
          "data": {
            "text/plain": [
              "array([[3, 4, 5]])"
            ]
          },
          "metadata": {},
          "execution_count": 7
        }
      ]
    },
    {
      "cell_type": "code",
      "source": [
        "a"
      ],
      "metadata": {
        "colab": {
          "base_uri": "https://localhost:8080/"
        },
        "id": "NU-G5Ai0pViP",
        "outputId": "982c0307-a160-4066-dabb-3e8eff3dd269"
      },
      "execution_count": null,
      "outputs": [
        {
          "output_type": "execute_result",
          "data": {
            "text/plain": [
              "array([[ 1,  2,  3,  4,  5],\n",
              "       [ 6,  7,  8,  9, 10],\n",
              "       [11, 12, 13, 14, 15],\n",
              "       [16, 17, 18, 19, 20]])"
            ]
          },
          "metadata": {},
          "execution_count": 2
        }
      ]
    },
    {
      "cell_type": "code",
      "source": [
        "a[0:2,0:2]"
      ],
      "metadata": {
        "colab": {
          "base_uri": "https://localhost:8080/"
        },
        "id": "M3WgeQrF5hDd",
        "outputId": "9b070ce0-2ca6-4243-c99a-86473f913744"
      },
      "execution_count": null,
      "outputs": [
        {
          "output_type": "execute_result",
          "data": {
            "text/plain": [
              "array([[1, 2],\n",
              "       [6, 7]])"
            ]
          },
          "metadata": {},
          "execution_count": 3
        }
      ]
    },
    {
      "cell_type": "code",
      "execution_count": null,
      "metadata": {
        "id": "FbNBt_2F3leF",
        "outputId": "a680d283-a09a-46a5-d5c1-7f93bbd97938",
        "colab": {
          "base_uri": "https://localhost:8080/"
        }
      },
      "outputs": [
        {
          "output_type": "execute_result",
          "data": {
            "text/plain": [
              "array([[ 7,  8,  9],\n",
              "       [12, 13, 14]])"
            ]
          },
          "metadata": {},
          "execution_count": 7
        }
      ],
      "source": [
        "a[1:3,1:4]"
      ]
    },
    {
      "cell_type": "code",
      "execution_count": null,
      "metadata": {
        "id": "LsstScEq3leG",
        "outputId": "62265f11-7101-4392-d7cb-b009bfa7848f",
        "colab": {
          "base_uri": "https://localhost:8080/"
        }
      },
      "outputs": [
        {
          "output_type": "execute_result",
          "data": {
            "text/plain": [
              "array([[13, 14],\n",
              "       [18, 19]])"
            ]
          },
          "metadata": {},
          "execution_count": 16
        }
      ],
      "source": [
        "ax = a[2:,2:4]\n",
        "ax"
      ]
    },
    {
      "cell_type": "code",
      "execution_count": null,
      "metadata": {
        "id": "SSd9GZbh3leG",
        "outputId": "cd91a3fa-d2ab-4acf-e81a-0cb3c138d140"
      },
      "outputs": [
        {
          "name": "stdout",
          "output_type": "stream",
          "text": [
            "[[ 1  2  3  4  5]\n",
            " [ 6  7  8  9 10]\n",
            " [11 12 13 14 15]\n",
            " [16 17 18 19 20]]\n",
            "(4, 5)\n"
          ]
        }
      ],
      "source": [
        "print(a)\n",
        "print(a.shape)"
      ]
    },
    {
      "cell_type": "code",
      "execution_count": null,
      "metadata": {
        "id": "wQbxm_6i3leH",
        "outputId": "619cc5a6-acb9-4b0f-f57d-e08416a92824"
      },
      "outputs": [
        {
          "name": "stdout",
          "output_type": "stream",
          "text": [
            "18\n"
          ]
        }
      ],
      "source": [
        "ab = a[3][2]\n",
        "print(ab)"
      ]
    },
    {
      "cell_type": "code",
      "execution_count": null,
      "metadata": {
        "id": "-yiel9tl3leH",
        "outputId": "9340459a-d790-4083-f143-c58ebece941a"
      },
      "outputs": [
        {
          "data": {
            "text/plain": [
              "array([[ 7,  8,  9],\n",
              "       [12, 13, 14],\n",
              "       [17, 18, 19]])"
            ]
          },
          "execution_count": 3,
          "metadata": {},
          "output_type": "execute_result"
        }
      ],
      "source": [
        "#axy =a[1:,1:4]\n",
        "axy =a[:,:]\n",
        "axy\n",
        "\n",
        "a[1:,1:4]\n",
        "a"
      ]
    },
    {
      "cell_type": "code",
      "source": [
        "a"
      ],
      "metadata": {
        "colab": {
          "base_uri": "https://localhost:8080/"
        },
        "id": "Lc7jodmY7AyX",
        "outputId": "8a0afc9f-1ac3-407a-da4e-0f1ecb780a54"
      },
      "execution_count": null,
      "outputs": [
        {
          "output_type": "execute_result",
          "data": {
            "text/plain": [
              "array([[ 1,  2,  3,  4,  5],\n",
              "       [ 6,  7,  8,  9, 10],\n",
              "       [11, 12, 13, 14, 15],\n",
              "       [16, 17, 18, 19, 20]])"
            ]
          },
          "metadata": {},
          "execution_count": 3
        }
      ]
    },
    {
      "cell_type": "code",
      "execution_count": null,
      "metadata": {
        "colab": {
          "base_uri": "https://localhost:8080/"
        },
        "id": "VhOJluS43leH",
        "outputId": "b2764b88-50cd-478e-9090-5e613c317ad0"
      },
      "outputs": [
        {
          "output_type": "stream",
          "name": "stdout",
          "text": [
            "[7]\n"
          ]
        }
      ],
      "source": [
        "abc = a[1,1:2]\n",
        "print(abc)\n",
        "# abd = a[1:3,1:]\n",
        "# print(abd)"
      ]
    },
    {
      "cell_type": "code",
      "source": [
        "abd = a[1:3,1:]\n",
        "print(abd)"
      ],
      "metadata": {
        "colab": {
          "base_uri": "https://localhost:8080/"
        },
        "id": "5MD3won17QGd",
        "outputId": "f5c8bd2b-6e28-4641-c34b-4655310ecd73"
      },
      "execution_count": null,
      "outputs": [
        {
          "output_type": "stream",
          "name": "stdout",
          "text": [
            "[[ 7  8  9 10]\n",
            " [12 13 14 15]]\n"
          ]
        }
      ]
    },
    {
      "cell_type": "code",
      "execution_count": null,
      "metadata": {
        "id": "HAPKfP9o3leH",
        "outputId": "d1b6b7cd-6463-403d-963d-cc0bc9680021"
      },
      "outputs": [
        {
          "data": {
            "text/plain": [
              "array([[ 2,  3,  4,  5],\n",
              "       [ 7,  8,  9, 10],\n",
              "       [12, 13, 14, 15],\n",
              "       [17, 18, 19, 20]])"
            ]
          },
          "execution_count": 10,
          "metadata": {},
          "output_type": "execute_result"
        }
      ],
      "source": [
        "col = a[:,:]\n",
        "col"
      ]
    },
    {
      "cell_type": "code",
      "execution_count": null,
      "metadata": {
        "id": "l1PXXsJE3leI",
        "outputId": "53fdf168-2c84-419f-b930-6ddc96c5e280"
      },
      "outputs": [
        {
          "data": {
            "text/plain": [
              "array([[ 1,  2,  3,  4,  5],\n",
              "       [ 6,  7,  8,  9, 10],\n",
              "       [11, 12, 13, 14, 15],\n",
              "       [16, 17, 18, 19, 20]])"
            ]
          },
          "execution_count": 11,
          "metadata": {},
          "output_type": "execute_result"
        }
      ],
      "source": [
        "a"
      ]
    },
    {
      "cell_type": "code",
      "execution_count": null,
      "metadata": {
        "id": "hlkLr0zx3leI",
        "outputId": "d53c3995-6c79-47f6-bd49-a8e5fce5db9d"
      },
      "outputs": [
        {
          "name": "stdout",
          "output_type": "stream",
          "text": [
            "[[ 1  2  3  4  5]\n",
            " [ 6  7  8  9 10]\n",
            " [11 12 13 14 15]\n",
            " [16 17 18 19 20]]\n"
          ]
        }
      ],
      "source": [
        "import numpy as np\n",
        "\n",
        "\n",
        "\n",
        "a=np.array([[1,2,3,4,5],[6,7,8,9,10],[11,12,13,14,15],[16,17,18,19,20]])\n",
        "\n",
        "print(a)"
      ]
    },
    {
      "cell_type": "code",
      "execution_count": null,
      "metadata": {
        "id": "8k9tgs6q3leI",
        "outputId": "5d2ce165-f752-4a76-8370-7a34516bd7cf"
      },
      "outputs": [
        {
          "ename": "IndexError",
          "evalue": "too many indices for array: array is 2-dimensional, but 3 were indexed",
          "output_type": "error",
          "traceback": [
            "\u001b[1;31m---------------------------------------------------------------------------\u001b[0m",
            "\u001b[1;31mIndexError\u001b[0m                                Traceback (most recent call last)",
            "Cell \u001b[1;32mIn[2], line 1\u001b[0m\n\u001b[1;32m----> 1\u001b[0m ac \u001b[38;5;241m=\u001b[39m \u001b[43ma\u001b[49m\u001b[43m[\u001b[49m\u001b[38;5;241;43m1\u001b[39;49m\u001b[43m:\u001b[49m\u001b[43m,\u001b[49m\u001b[38;5;241;43m3\u001b[39;49m\u001b[43m,\u001b[49m\u001b[43m:\u001b[49m\u001b[43m]\u001b[49m\n\u001b[0;32m      2\u001b[0m \u001b[38;5;28mprint\u001b[39m(ac)\n\u001b[0;32m      3\u001b[0m \u001b[38;5;28mprint\u001b[39m(\u001b[38;5;28mtype\u001b[39m(ac))\n",
            "\u001b[1;31mIndexError\u001b[0m: too many indices for array: array is 2-dimensional, but 3 were indexed"
          ]
        }
      ],
      "source": [
        "ac = a[1:,3:]\n",
        "print(ac)\n",
        "print(type(ac))\n",
        "#print(type(ac))"
      ]
    },
    {
      "cell_type": "code",
      "execution_count": null,
      "metadata": {
        "id": "HPvw9THS3leJ"
      },
      "outputs": [],
      "source": [
        "abc(5,7)#\n",
        "abc = (4,5,6)\n",
        "abx = [345,6,7,788]"
      ]
    },
    {
      "cell_type": "code",
      "execution_count": null,
      "metadata": {
        "id": "VSWb_HLZ3leJ"
      },
      "outputs": [],
      "source": [
        "sys."
      ]
    },
    {
      "cell_type": "code",
      "execution_count": null,
      "metadata": {
        "id": "fZvcmGui3leJ",
        "outputId": "3ea5818a-60e5-49a0-eb4d-692b71f786c7"
      },
      "outputs": [
        {
          "name": "stdout",
          "output_type": "stream",
          "text": [
            "range(0, 1000)\n",
            "28\n",
            "Memory Usage in Procedural Approach 28000\n",
            "1000\n",
            "4\n",
            "Memory Usage in Numpy Approach 4000\n"
          ]
        }
      ],
      "source": [
        "import numpy\n",
        "import time\n",
        "import sys\n",
        "# Memory\n",
        "s = range(1000)\n",
        "print(s)\n",
        "##print(len(s))\n",
        "print(sys.getsizeof(7))\n",
        "print (\"Memory Usage in Procedural Approach\",sys.getsizeof(5)*len(s))\n",
        "###print (sys.getsizeof(10)*len(s))\n",
        "D = numpy.arange(1000)\n",
        "#print(D)\n",
        "print(D.size)\n",
        "print(D.itemsize)\n",
        "print(\"Memory Usage in Numpy Approach\",D.itemsize*D.size)"
      ]
    },
    {
      "cell_type": "code",
      "source": [
        "D = numpy.arange(1000)\n",
        "print(D)"
      ],
      "metadata": {
        "id": "kmISsS4vuaFE"
      },
      "execution_count": null,
      "outputs": []
    },
    {
      "cell_type": "code",
      "execution_count": null,
      "metadata": {
        "id": "zeWBLBlt3leJ",
        "outputId": "1029729c-5c06-48f3-b334-fd57395b8aa7",
        "colab": {
          "base_uri": "https://localhost:8080/"
        }
      },
      "outputs": [
        {
          "output_type": "stream",
          "name": "stdout",
          "text": [
            "Time required to process in procedural approach 181.72955513000488\n",
            "Time requird in Numpy approach 37.38093376159668\n"
          ]
        }
      ],
      "source": [
        "import numpy\n",
        "import time\n",
        "\n",
        "# Computation time\n",
        "\n",
        "SIZE = 1000000\n",
        "\n",
        "L1 = range(SIZE)\n",
        "\n",
        "A1 = numpy.arange(SIZE)\n",
        "\n",
        "start = time.time()\n",
        "\n",
        "result = [x*4 for x in L1]\n",
        "\n",
        "print (\"Time required to process in procedural approach\",(time.time()-start)*1000)\n",
        "\n",
        "start = time.time()\n",
        "\n",
        "result = A1*4\n",
        "\n",
        "print (\"Time requird in Numpy approach\",(time.time()-start)*1000)\n"
      ]
    },
    {
      "cell_type": "code",
      "source": [
        "\n",
        "# Numpy arrays are stored in contiguous blocks of memory, allowing for efficient vectorized operations.\n",
        "# In contrast, Python lists store references to objects scattered throughout memory, leading to overhead when performing operations.\n",
        "# Numpy leverages optimized C and Fortran libraries for numerical computations, further enhancing performance.\n"
      ],
      "metadata": {
        "id": "jQ20p2_IQ5Ed"
      },
      "execution_count": null,
      "outputs": []
    },
    {
      "cell_type": "code",
      "execution_count": null,
      "metadata": {
        "scrolled": false,
        "id": "AGLr5QX_3leL",
        "outputId": "9165fa43-509b-44f0-f078-d32516f576de",
        "colab": {
          "base_uri": "https://localhost:8080/"
        }
      },
      "outputs": [
        {
          "output_type": "stream",
          "name": "stdout",
          "text": [
            "[[1 2 3 4]\n",
            " [5 6 7 8]]\n",
            "first\n",
            "(2, 4)\n",
            "second\n",
            "[[1 2]\n",
            " [3 4]\n",
            " [5 6]\n",
            " [7 8]]\n",
            "(4, 2)\n"
          ]
        }
      ],
      "source": [
        "#a = np.array(([1,2,3,4],[5,6,7,8]))\n",
        "import numpy as np\n",
        "a = np.array([[1,2,3,4],[5,6,7,8]])\n",
        "print(a)\n",
        "print('first')\n",
        "print(a.shape)\n",
        "#print(a.shape())\n",
        "a = a.reshape(4,2)\n",
        "#a = a.reshape(-1)\n",
        "#a = a.reshape(1,8)\n",
        "print('second')\n",
        "print(a)\n",
        "print(a.shape)\n"
      ]
    },
    {
      "cell_type": "code",
      "execution_count": null,
      "metadata": {
        "id": "CkenXp7S3leL",
        "outputId": "10dac8ce-5fca-4b36-b47d-9d46bf80cbee",
        "colab": {
          "base_uri": "https://localhost:8080/"
        }
      },
      "outputs": [
        {
          "output_type": "stream",
          "name": "stdout",
          "text": [
            "[[1 2]\n",
            " [3 4]\n",
            " [5 6]\n",
            " [7 8]]\n",
            "[[1 2]\n",
            " [1 2]\n",
            " [1 2]\n",
            " [3 4]\n",
            " [3 4]\n",
            " [3 4]\n",
            " [5 6]\n",
            " [5 6]\n",
            " [5 6]\n",
            " [7 8]\n",
            " [7 8]\n",
            " [7 8]]\n",
            "(12, 2)\n"
          ]
        }
      ],
      "source": [
        "print(a)\n",
        "aa = a.repeat(3, 0)\n",
        "# # a = a.repeat(0, 3)\n",
        "print(aa)\n",
        "print(aa.shape)"
      ]
    },
    {
      "cell_type": "code",
      "execution_count": null,
      "metadata": {
        "id": "FHD3oujD3leL",
        "outputId": "649c3877-625d-463e-b330-7edb9ff7dfc6"
      },
      "outputs": [
        {
          "data": {
            "text/plain": [
              "(4, 6)"
            ]
          },
          "execution_count": 12,
          "metadata": {},
          "output_type": "execute_result"
        }
      ],
      "source": [
        "a.shape"
      ]
    },
    {
      "cell_type": "code",
      "execution_count": null,
      "metadata": {
        "id": "lUsDVtFt3leL",
        "outputId": "aab0d3ad-345b-4451-ba72-3e53e0467369",
        "colab": {
          "base_uri": "https://localhost:8080/"
        }
      },
      "outputs": [
        {
          "output_type": "stream",
          "name": "stdout",
          "text": [
            "[[1 2]\n",
            " [3 4]\n",
            " [5 6]\n",
            " [7 8]]\n",
            "[[1 1 1 2 2 2]\n",
            " [3 3 3 4 4 4]\n",
            " [5 5 5 6 6 6]\n",
            " [7 7 7 8 8 8]]\n",
            "(4, 6)\n"
          ]
        }
      ],
      "source": [
        "print(a)\n",
        "a = a.repeat(3, 1)\n",
        "print(a)\n",
        "print(a.shape)\n"
      ]
    },
    {
      "cell_type": "code",
      "execution_count": null,
      "metadata": {
        "id": "cApVoFsE3leM",
        "outputId": "feb23588-7ed1-4450-f8fc-23930703aa21"
      },
      "outputs": [
        {
          "name": "stdout",
          "output_type": "stream",
          "text": [
            "[[1 2]\n",
            " [3 4]\n",
            " [5 6]\n",
            " [7 8]]\n",
            "[[1 2]\n",
            " [1 2]\n",
            " [1 2]\n",
            " [3 4]\n",
            " [3 4]\n",
            " [3 4]\n",
            " [5 6]\n",
            " [5 6]\n",
            " [5 6]\n",
            " [7 8]\n",
            " [7 8]\n",
            " [7 8]]\n",
            "(12, 2)\n"
          ]
        }
      ],
      "source": [
        "print(a)\n",
        "ab = a.repeat(3, 0)\n",
        "print(ab)\n",
        "print(ab.shape)"
      ]
    },
    {
      "cell_type": "code",
      "execution_count": null,
      "metadata": {
        "id": "0Zpa9dbq3leM",
        "outputId": "9d205d20-8909-41e3-ba42-540550953c17"
      },
      "outputs": [
        {
          "data": {
            "text/plain": [
              "array([[0, 1],\n",
              "       [2, 3]])"
            ]
          },
          "execution_count": 7,
          "metadata": {},
          "output_type": "execute_result"
        }
      ],
      "source": [
        "x = np.arange(4).reshape((2,2))\n",
        "x\n",
        "#print(type(x))"
      ]
    },
    {
      "cell_type": "code",
      "source": [],
      "metadata": {
        "id": "3APLabTw-M8S"
      },
      "execution_count": null,
      "outputs": []
    },
    {
      "cell_type": "code",
      "execution_count": null,
      "metadata": {
        "id": "lkyEoA_Z3leN",
        "outputId": "e4b403a4-d9d1-4108-a569-99238d013a2c"
      },
      "outputs": [
        {
          "name": "stdout",
          "output_type": "stream",
          "text": [
            "[[0 1]\n",
            " [2 3]\n",
            " [4 5]]\n"
          ]
        },
        {
          "data": {
            "text/plain": [
              "array([[0, 2, 4],\n",
              "       [1, 3, 5]])"
            ]
          },
          "execution_count": 10,
          "metadata": {},
          "output_type": "execute_result"
        }
      ],
      "source": [
        "import numpy as np\n",
        "a = np.arange(6).reshape((3,2))\n",
        "print(a)\n",
        "a= np.transpose(a)\n",
        "a"
      ]
    },
    {
      "cell_type": "code",
      "execution_count": null,
      "metadata": {
        "id": "IVkFm6Ru3leO",
        "outputId": "a008bed6-e729-4708-fbfa-009e80e27e09"
      },
      "outputs": [
        {
          "data": {
            "text/plain": [
              "array([[0, 1],\n",
              "       [2, 3]])"
            ]
          },
          "execution_count": 6,
          "metadata": {},
          "output_type": "execute_result"
        }
      ],
      "source": [
        "x = np.arange(4).reshape(2,2)\n",
        "print(x)\n",
        "np.transpose(x)\n"
      ]
    },
    {
      "cell_type": "code",
      "source": [
        "x = np.arange(16).reshape(2,8)\n",
        "print(x)\n",
        "# np.transpose(x)"
      ],
      "metadata": {
        "colab": {
          "base_uri": "https://localhost:8080/"
        },
        "id": "ymHMxV3pOr1u",
        "outputId": "79303e65-af57-4b45-dc95-1dcdcf4f79f4"
      },
      "execution_count": null,
      "outputs": [
        {
          "output_type": "stream",
          "name": "stdout",
          "text": [
            "[[ 0  1  2  3  4  5  6  7]\n",
            " [ 8  9 10 11 12 13 14 15]]\n"
          ]
        }
      ]
    },
    {
      "cell_type": "code",
      "execution_count": null,
      "metadata": {
        "scrolled": true,
        "id": "mVkRmKgD3leO",
        "outputId": "f8b6993f-da91-41dc-c00a-04efa2a1fe44"
      },
      "outputs": [
        {
          "data": {
            "text/plain": [
              "array([[0, 2],\n",
              "       [1, 3]])"
            ]
          },
          "execution_count": 4,
          "metadata": {},
          "output_type": "execute_result"
        }
      ],
      "source": [
        "np.transpose(x)"
      ]
    },
    {
      "cell_type": "code",
      "execution_count": null,
      "metadata": {
        "id": "yswSSHJC3leP",
        "outputId": "849a29f5-759c-47f8-c3b7-db4f6247a521"
      },
      "outputs": [
        {
          "name": "stdout",
          "output_type": "stream",
          "text": [
            "(3, 4)\n",
            "[[ 1  2  3  4]\n",
            " [ 5  6  7  8]\n",
            " [ 9 10 11 12]]\n"
          ]
        }
      ],
      "source": [
        "arr = np.array([[1,2,3,4], [5,6,7,8], [9,10,11,12]])\n",
        "print(arr.shape)\n",
        "print(arr)"
      ]
    },
    {
      "cell_type": "code",
      "source": [
        "import numpy as np\n",
        "\n",
        "# Step 1: Create a 3x4 matrix\n",
        "matrix = np.array([\n",
        "    [1, 2, 3, 4],\n",
        "    [5, 6, 7, 8],\n",
        "    [9, 10, 11, 12]\n",
        "])\n",
        "\n",
        "# Step 2: Select the column to repeat (e.g., the second column)\n",
        "column_to_repeat = matrix[:, 1].reshape(-1, 1)  # This reshapes it to a column vector\n",
        "\n",
        "# Step 3: Repeat this column 3 times\n",
        "repeated_columns = np.tile(column_to_repeat, (1, 3))\n",
        "print(matrix)\n",
        "# print(repeated_columns)\n",
        "\n",
        "\n",
        "# Append the repeated columns to the original matrix\n",
        "new_matrix = np.hstack((matrix, repeated_columns))\n",
        "\n",
        "print(new_matrix)\n"
      ],
      "metadata": {
        "colab": {
          "base_uri": "https://localhost:8080/"
        },
        "id": "Ytt0GhVfUI5m",
        "outputId": "490b9d0d-c58f-4537-a629-c60ff7b821ec"
      },
      "execution_count": null,
      "outputs": [
        {
          "output_type": "stream",
          "name": "stdout",
          "text": [
            "[[ 1  2  3  4]\n",
            " [ 5  6  7  8]\n",
            " [ 9 10 11 12]]\n",
            "[[ 1  2  3  4  2  2  2]\n",
            " [ 5  6  7  8  6  6  6]\n",
            " [ 9 10 11 12 10 10 10]]\n"
          ]
        }
      ]
    },
    {
      "cell_type": "code",
      "source": [
        "import numpy as np\n",
        "\n",
        "# Original array of shape (3, 3, 4)\n",
        "array_3d = np.random.randint(0, 100, (3, 3, 4))\n",
        "print(\"Original 3D array:\")\n",
        "print(array_3d)\n",
        "print(\"Original shape:\", array_3d.shape)\n",
        "\n",
        "# Repeat the array along the first axis to achieve shape (6, 3, 4)\n",
        "new_array = np.tile(array_3d, (2, 1, 1))  # Repeat only along the first axis\n",
        "print(new_array)\n",
        "print(\"\\nNew 3D array after repeating along the first axis:\")\n",
        "print(new_array)\n",
        "print(\"New shape:\", new_array.shape)\n"
      ],
      "metadata": {
        "colab": {
          "base_uri": "https://localhost:8080/"
        },
        "id": "2LmDtArGkfb1",
        "outputId": "7b39dd09-84b5-4fb0-fef8-d76065387423"
      },
      "execution_count": null,
      "outputs": [
        {
          "output_type": "stream",
          "name": "stdout",
          "text": [
            "Original 3D array:\n",
            "[[[59 34 51  2]\n",
            "  [42 19 12 77]\n",
            "  [81 98 24 80]]\n",
            "\n",
            " [[53 55 40 70]\n",
            "  [91 74 93 26]\n",
            "  [89 35 33 23]]\n",
            "\n",
            " [[85 84 57 20]\n",
            "  [46 12 35 51]\n",
            "  [36 15 32  4]]]\n",
            "Original shape: (3, 3, 4)\n",
            "\n",
            "New 3D array after repeating along the first axis:\n",
            "[[[59 34 51  2]\n",
            "  [42 19 12 77]\n",
            "  [81 98 24 80]]\n",
            "\n",
            " [[53 55 40 70]\n",
            "  [91 74 93 26]\n",
            "  [89 35 33 23]]\n",
            "\n",
            " [[85 84 57 20]\n",
            "  [46 12 35 51]\n",
            "  [36 15 32  4]]\n",
            "\n",
            " [[59 34 51  2]\n",
            "  [42 19 12 77]\n",
            "  [81 98 24 80]]\n",
            "\n",
            " [[53 55 40 70]\n",
            "  [91 74 93 26]\n",
            "  [89 35 33 23]]\n",
            "\n",
            " [[85 84 57 20]\n",
            "  [46 12 35 51]\n",
            "  [36 15 32  4]]]\n",
            "New shape: (6, 3, 4)\n"
          ]
        }
      ]
    },
    {
      "cell_type": "code",
      "source": [
        "import numpy as np\n",
        "\n",
        "# Create a 4D array\n",
        "array_4d = np.random.randint(0, 10, size=(3, 3, 3, 3))\n",
        "print (array_4d.shape)\n",
        "\n",
        "# Repeat it 2 times along axis 0\n",
        "repeated_array = np.repeat(array_4d[np.newaxis, ...], 2, axis=0)\n",
        "print (repeated_array.shape)\n",
        "print(repeated_array)\n",
        "print(\"Shape of the repeated array:\", repeated_array.shape)\n"
      ],
      "metadata": {
        "colab": {
          "base_uri": "https://localhost:8080/"
        },
        "id": "oHMHNvYiudF7",
        "outputId": "70c62c0a-a545-4ac9-b429-6a890a9332b6"
      },
      "execution_count": null,
      "outputs": [
        {
          "output_type": "stream",
          "name": "stdout",
          "text": [
            "(3, 3, 3, 3)\n",
            "(2, 3, 3, 3, 3)\n",
            "[[[[[1 2 1]\n",
            "    [0 9 7]\n",
            "    [8 0 0]]\n",
            "\n",
            "   [[9 9 8]\n",
            "    [2 0 5]\n",
            "    [5 2 9]]\n",
            "\n",
            "   [[1 2 1]\n",
            "    [0 2 3]\n",
            "    [3 1 5]]]\n",
            "\n",
            "\n",
            "  [[[1 7 1]\n",
            "    [2 3 0]\n",
            "    [6 3 9]]\n",
            "\n",
            "   [[7 6 1]\n",
            "    [1 7 4]\n",
            "    [6 4 3]]\n",
            "\n",
            "   [[9 7 7]\n",
            "    [9 0 9]\n",
            "    [9 5 0]]]\n",
            "\n",
            "\n",
            "  [[[2 9 2]\n",
            "    [1 8 0]\n",
            "    [7 3 9]]\n",
            "\n",
            "   [[4 2 4]\n",
            "    [5 9 1]\n",
            "    [9 8 4]]\n",
            "\n",
            "   [[4 0 5]\n",
            "    [5 3 8]\n",
            "    [4 7 5]]]]\n",
            "\n",
            "\n",
            "\n",
            " [[[[1 2 1]\n",
            "    [0 9 7]\n",
            "    [8 0 0]]\n",
            "\n",
            "   [[9 9 8]\n",
            "    [2 0 5]\n",
            "    [5 2 9]]\n",
            "\n",
            "   [[1 2 1]\n",
            "    [0 2 3]\n",
            "    [3 1 5]]]\n",
            "\n",
            "\n",
            "  [[[1 7 1]\n",
            "    [2 3 0]\n",
            "    [6 3 9]]\n",
            "\n",
            "   [[7 6 1]\n",
            "    [1 7 4]\n",
            "    [6 4 3]]\n",
            "\n",
            "   [[9 7 7]\n",
            "    [9 0 9]\n",
            "    [9 5 0]]]\n",
            "\n",
            "\n",
            "  [[[2 9 2]\n",
            "    [1 8 0]\n",
            "    [7 3 9]]\n",
            "\n",
            "   [[4 2 4]\n",
            "    [5 9 1]\n",
            "    [9 8 4]]\n",
            "\n",
            "   [[4 0 5]\n",
            "    [5 3 8]\n",
            "    [4 7 5]]]]]\n",
            "Shape of the repeated array: (2, 3, 3, 3, 3)\n"
          ]
        }
      ]
    },
    {
      "cell_type": "code",
      "execution_count": null,
      "metadata": {
        "id": "aD8EbtFQ3leP",
        "outputId": "c1052e41-fcae-409a-a45d-901d59eadac0",
        "colab": {
          "base_uri": "https://localhost:8080/"
        }
      },
      "outputs": [
        {
          "output_type": "stream",
          "name": "stdout",
          "text": [
            "Original 3D array:\n",
            "[[[47 77 64 75]\n",
            "  [36 83 20 56]\n",
            "  [73 66 57 33]]\n",
            "\n",
            " [[ 9 83  4 79]\n",
            "  [59 97 66 14]\n",
            "  [36 74 73 54]]\n",
            "\n",
            " [[21  9 16 95]\n",
            "  [73 38 72 74]\n",
            "  [81 69 39 24]]]\n",
            "(3, 3, 4)\n",
            "\n",
            "Repeated along axis 0:\n",
            "[[[47 77 64 75]\n",
            "  [36 83 20 56]\n",
            "  [73 66 57 33]]\n",
            "\n",
            " [[47 77 64 75]\n",
            "  [36 83 20 56]\n",
            "  [73 66 57 33]]\n",
            "\n",
            " [[ 9 83  4 79]\n",
            "  [59 97 66 14]\n",
            "  [36 74 73 54]]\n",
            "\n",
            " [[ 9 83  4 79]\n",
            "  [59 97 66 14]\n",
            "  [36 74 73 54]]\n",
            "\n",
            " [[21  9 16 95]\n",
            "  [73 38 72 74]\n",
            "  [81 69 39 24]]\n",
            "\n",
            " [[21  9 16 95]\n",
            "  [73 38 72 74]\n",
            "  [81 69 39 24]]]\n",
            "(6, 3, 4)\n"
          ]
        }
      ],
      "source": [
        "import numpy as np\n",
        "\n",
        "array_3d = np.random.randint(0, 100, (3, 3, 4))\n",
        "print(\"Original 3D array:\")\n",
        "print(array_3d)\n",
        "print(array_3d.shape)\n",
        "\n",
        "\n",
        "repeated_along_axis0 = np.repeat(array_3d, 2, axis=0)\n",
        "print(\"\\nRepeated along axis 0:\")\n",
        "print(repeated_along_axis0)\n",
        "print(repeated_along_axis0.shape)\n",
        "\n",
        "# repeated_along_axis1 = np.repeat(array_3d, 2, axis=1)\n",
        "# print(\"\\nRepeated along axis 1:\")\n",
        "# print(repeated_along_axis1)\n",
        "# print(repeated_along_axis1.shape)\n",
        "\n",
        "# repeated_along_axis2 = np.repeat(array_3d, 2,axis = 0)\n",
        "# print(\"\\nRepeated along axis 0:\")\n",
        "# print(repeated_along_axis2)\n",
        "# print(repeated_along_axis2.shape)"
      ]
    },
    {
      "cell_type": "markdown",
      "source": [
        "![image.png](data:image/png;base64,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)"
      ],
      "metadata": {
        "id": "zwavdUrLgTiI"
      }
    },
    {
      "cell_type": "code",
      "source": [
        "import numpy as np\n",
        "\n",
        "# Create the original 3D array of shape (3, 3, 4)\n",
        "array_3d = np.random.randint(0, 100, (3, 3, 4))\n",
        "print(\"Original 3D array:\")\n",
        "print(array_3d)\n",
        "print(\"Original shape:\", array_3d.shape)\n",
        "\n",
        "# Example 1: Transpose to (3, 4, 3)\n",
        "transpose_1 = array_3d.transpose(0, 2, 1)\n",
        "print(\"\\nTransposed array to shape (3, 4, 3):\")\n",
        "print(transpose_1)\n",
        "print(\"Shape after transpose:\", transpose_1.shape)\n",
        "\n",
        "# Example 2: Transpose to (4, 3, 3)\n",
        "transpose_2 = array_3d.transpose(2, 0, 1)\n",
        "print(\"\\nTransposed array to shape (4, 3, 3):\")\n",
        "print(transpose_2)\n",
        "print(\"Shape after transpose:\", transpose_2.shape)\n",
        "\n",
        "# Example 3: Transpose to (3, 3, 4) (no change)\n",
        "transpose_3 = array_3d.transpose(0, 1, 2)\n",
        "print(\"\\nTransposed array to shape (3, 3, 4) (no change):\")\n",
        "print(transpose_3)\n",
        "print(\"Shape after transpose:\", transpose_3.shape)\n"
      ],
      "metadata": {
        "colab": {
          "base_uri": "https://localhost:8080/"
        },
        "id": "npDBsgPMnVLo",
        "outputId": "e75efa75-0054-40a4-8c52-330e95ea40c6"
      },
      "execution_count": null,
      "outputs": [
        {
          "output_type": "stream",
          "name": "stdout",
          "text": [
            "Original 3D array:\n",
            "[[[37 51 38 44]\n",
            "  [53 95 58 55]\n",
            "  [62 57 34 48]]\n",
            "\n",
            " [[16 65 12 51]\n",
            "  [74 97 19 89]\n",
            "  [10 96 10  3]]\n",
            "\n",
            " [[96 46 25 13]\n",
            "  [37 62 14 12]\n",
            "  [30 41 72 65]]]\n",
            "Original shape: (3, 3, 4)\n",
            "\n",
            "Transposed array to shape (3, 4, 3):\n",
            "[[[37 53 62]\n",
            "  [51 95 57]\n",
            "  [38 58 34]\n",
            "  [44 55 48]]\n",
            "\n",
            " [[16 74 10]\n",
            "  [65 97 96]\n",
            "  [12 19 10]\n",
            "  [51 89  3]]\n",
            "\n",
            " [[96 37 30]\n",
            "  [46 62 41]\n",
            "  [25 14 72]\n",
            "  [13 12 65]]]\n",
            "Shape after transpose: (3, 4, 3)\n",
            "\n",
            "Transposed array to shape (4, 3, 3):\n",
            "[[[37 53 62]\n",
            "  [16 74 10]\n",
            "  [96 37 30]]\n",
            "\n",
            " [[51 95 57]\n",
            "  [65 97 96]\n",
            "  [46 62 41]]\n",
            "\n",
            " [[38 58 34]\n",
            "  [12 19 10]\n",
            "  [25 14 72]]\n",
            "\n",
            " [[44 55 48]\n",
            "  [51 89  3]\n",
            "  [13 12 65]]]\n",
            "Shape after transpose: (4, 3, 3)\n",
            "\n",
            "Transposed array to shape (3, 3, 4) (no change):\n",
            "[[[37 51 38 44]\n",
            "  [53 95 58 55]\n",
            "  [62 57 34 48]]\n",
            "\n",
            " [[16 65 12 51]\n",
            "  [74 97 19 89]\n",
            "  [10 96 10  3]]\n",
            "\n",
            " [[96 46 25 13]\n",
            "  [37 62 14 12]\n",
            "  [30 41 72 65]]]\n",
            "Shape after transpose: (3, 3, 4)\n"
          ]
        }
      ]
    },
    {
      "cell_type": "code",
      "source": [
        "import numpy as np\n",
        "\n",
        "# Create the original 3D array of shape (3, 3, 4)\n",
        "array_3d = np.random.randint(0, 100, (3, 3, 4))\n",
        "print(\"Original 3D array:\")\n",
        "print(array_3d)\n",
        "print(\"Original shape:\", array_3d.shape)\n",
        "\n",
        "# Example 1: Transpose to (3, 4, 3)\n",
        "transpose_1 = array_3d.transpose(0, 2, 1)\n",
        "print(\"\\nTransposed array to shape (3, 4, 3):\")\n",
        "print(transpose_1)\n",
        "print(\"Shape after transpose:\", transpose_1.shape)\n",
        "\n",
        "# Example 2: Transpose to (4, 3, 3)\n",
        "transpose_2 = array_3d.transpose(2, 0, 1)\n",
        "print(\"\\nTransposed array to shape (4, 3, 3):\")\n",
        "print(transpose_2)\n",
        "print(\"Shape after transpose:\", transpose_2.shape)\n",
        "\n",
        "# Example 3: Transpose to (3, 3, 4) (no change)\n",
        "transpose_3 = array_3d.transpose(0, 1, 2)\n",
        "print(\"\\nTransposed array to shape (3, 3, 4) (no change):\")\n",
        "print(transpose_3)\n",
        "print(\"Shape after transpose:\", transpose_3.shape)\n"
      ],
      "metadata": {
        "colab": {
          "base_uri": "https://localhost:8080/"
        },
        "id": "-EV_L6X2o7HZ",
        "outputId": "652c98b9-9d75-4524-d393-c5836037bf33"
      },
      "execution_count": null,
      "outputs": [
        {
          "output_type": "stream",
          "name": "stdout",
          "text": [
            "Original 3D array:\n",
            "[[[96 74 51 92]\n",
            "  [55 97 71 74]\n",
            "  [51 77 83 84]]\n",
            "\n",
            " [[31 91 94 49]\n",
            "  [78 66 46 79]\n",
            "  [86 30 80 50]]\n",
            "\n",
            " [[62 81 13  3]\n",
            "  [61 33 75  1]\n",
            "  [61 31 51 81]]]\n",
            "Original shape: (3, 3, 4)\n",
            "\n",
            "Transposed array to shape (3, 4, 3):\n",
            "[[[96 55 51]\n",
            "  [74 97 77]\n",
            "  [51 71 83]\n",
            "  [92 74 84]]\n",
            "\n",
            " [[31 78 86]\n",
            "  [91 66 30]\n",
            "  [94 46 80]\n",
            "  [49 79 50]]\n",
            "\n",
            " [[62 61 61]\n",
            "  [81 33 31]\n",
            "  [13 75 51]\n",
            "  [ 3  1 81]]]\n",
            "Shape after transpose: (3, 4, 3)\n",
            "\n",
            "Transposed array to shape (4, 3, 3):\n",
            "[[[96 55 51]\n",
            "  [31 78 86]\n",
            "  [62 61 61]]\n",
            "\n",
            " [[74 97 77]\n",
            "  [91 66 30]\n",
            "  [81 33 31]]\n",
            "\n",
            " [[51 71 83]\n",
            "  [94 46 80]\n",
            "  [13 75 51]]\n",
            "\n",
            " [[92 74 84]\n",
            "  [49 79 50]\n",
            "  [ 3  1 81]]]\n",
            "Shape after transpose: (4, 3, 3)\n",
            "\n",
            "Transposed array to shape (3, 3, 4) (no change):\n",
            "[[[96 74 51 92]\n",
            "  [55 97 71 74]\n",
            "  [51 77 83 84]]\n",
            "\n",
            " [[31 91 94 49]\n",
            "  [78 66 46 79]\n",
            "  [86 30 80 50]]\n",
            "\n",
            " [[62 81 13  3]\n",
            "  [61 33 75  1]\n",
            "  [61 31 51 81]]]\n",
            "Shape after transpose: (3, 3, 4)\n"
          ]
        }
      ]
    },
    {
      "cell_type": "code",
      "source": [
        "import numpy as np\n",
        "\n",
        "# Step 1: Create the original 4D array of shape (2, 3, 3, 4)\n",
        "array_4d = np.random.randint(0, 100, (2, 3, 3, 4))\n",
        "print(\"Original 4D array:\")\n",
        "print(array_4d)\n",
        "print(\"Original shape:\", array_4d.shape)\n",
        "\n",
        "# Step 2: Repeat the array along the first axis to expand its size\n",
        "# For example, repeat it along the first dimension to get a shape (4, 3, 3, 4)\n",
        "repeated_array = np.tile(array_4d, (2, 1, 1, 1))\n",
        "print(\"\\nRepeated 4D array along the first axis:\")\n",
        "print(repeated_array)\n",
        "print(\"Shape after repeating:\", repeated_array.shape)\n",
        "\n",
        "# Step 3: Transpose the repeated array to change the order of dimensions\n",
        "# For example, transpose to bring the last axis to the front to get shape (4, 4, 3, 3)\n",
        "transposed_array = repeated_array.transpose(3, 0, 1, 2)\n",
        "print(\"\\nTransposed 4D array with dimensions rearranged:\")\n",
        "print(transposed_array)\n",
        "print(\"Shape after transpose:\", transposed_array.shape)\n"
      ],
      "metadata": {
        "colab": {
          "base_uri": "https://localhost:8080/"
        },
        "id": "dz23ijvkpgfn",
        "outputId": "43f2d4fe-8ced-4388-c762-52e18bbf195f"
      },
      "execution_count": null,
      "outputs": [
        {
          "output_type": "stream",
          "name": "stdout",
          "text": [
            "Original 4D array:\n",
            "[[[[18 50 41 16]\n",
            "   [27 14 65 95]\n",
            "   [68 15 41  0]]\n",
            "\n",
            "  [[73 93 19 37]\n",
            "   [62 14  4 52]\n",
            "   [57 11 62  9]]\n",
            "\n",
            "  [[68 34 30 64]\n",
            "   [66 33 10 60]\n",
            "   [21 24 77 78]]]\n",
            "\n",
            "\n",
            " [[[66 33 81 73]\n",
            "   [23 80 38  6]\n",
            "   [28 47 53 63]]\n",
            "\n",
            "  [[43 70 91  8]\n",
            "   [14  8 58 65]\n",
            "   [50 60 75 31]]\n",
            "\n",
            "  [[88 56 50  4]\n",
            "   [53 32 27 82]\n",
            "   [ 3 29 62 20]]]]\n",
            "Original shape: (2, 3, 3, 4)\n",
            "\n",
            "Repeated 4D array along the first axis:\n",
            "[[[[18 50 41 16]\n",
            "   [27 14 65 95]\n",
            "   [68 15 41  0]]\n",
            "\n",
            "  [[73 93 19 37]\n",
            "   [62 14  4 52]\n",
            "   [57 11 62  9]]\n",
            "\n",
            "  [[68 34 30 64]\n",
            "   [66 33 10 60]\n",
            "   [21 24 77 78]]]\n",
            "\n",
            "\n",
            " [[[66 33 81 73]\n",
            "   [23 80 38  6]\n",
            "   [28 47 53 63]]\n",
            "\n",
            "  [[43 70 91  8]\n",
            "   [14  8 58 65]\n",
            "   [50 60 75 31]]\n",
            "\n",
            "  [[88 56 50  4]\n",
            "   [53 32 27 82]\n",
            "   [ 3 29 62 20]]]\n",
            "\n",
            "\n",
            " [[[18 50 41 16]\n",
            "   [27 14 65 95]\n",
            "   [68 15 41  0]]\n",
            "\n",
            "  [[73 93 19 37]\n",
            "   [62 14  4 52]\n",
            "   [57 11 62  9]]\n",
            "\n",
            "  [[68 34 30 64]\n",
            "   [66 33 10 60]\n",
            "   [21 24 77 78]]]\n",
            "\n",
            "\n",
            " [[[66 33 81 73]\n",
            "   [23 80 38  6]\n",
            "   [28 47 53 63]]\n",
            "\n",
            "  [[43 70 91  8]\n",
            "   [14  8 58 65]\n",
            "   [50 60 75 31]]\n",
            "\n",
            "  [[88 56 50  4]\n",
            "   [53 32 27 82]\n",
            "   [ 3 29 62 20]]]]\n",
            "Shape after repeating: (4, 3, 3, 4)\n",
            "\n",
            "Transposed 4D array with dimensions rearranged:\n",
            "[[[[18 27 68]\n",
            "   [73 62 57]\n",
            "   [68 66 21]]\n",
            "\n",
            "  [[66 23 28]\n",
            "   [43 14 50]\n",
            "   [88 53  3]]\n",
            "\n",
            "  [[18 27 68]\n",
            "   [73 62 57]\n",
            "   [68 66 21]]\n",
            "\n",
            "  [[66 23 28]\n",
            "   [43 14 50]\n",
            "   [88 53  3]]]\n",
            "\n",
            "\n",
            " [[[50 14 15]\n",
            "   [93 14 11]\n",
            "   [34 33 24]]\n",
            "\n",
            "  [[33 80 47]\n",
            "   [70  8 60]\n",
            "   [56 32 29]]\n",
            "\n",
            "  [[50 14 15]\n",
            "   [93 14 11]\n",
            "   [34 33 24]]\n",
            "\n",
            "  [[33 80 47]\n",
            "   [70  8 60]\n",
            "   [56 32 29]]]\n",
            "\n",
            "\n",
            " [[[41 65 41]\n",
            "   [19  4 62]\n",
            "   [30 10 77]]\n",
            "\n",
            "  [[81 38 53]\n",
            "   [91 58 75]\n",
            "   [50 27 62]]\n",
            "\n",
            "  [[41 65 41]\n",
            "   [19  4 62]\n",
            "   [30 10 77]]\n",
            "\n",
            "  [[81 38 53]\n",
            "   [91 58 75]\n",
            "   [50 27 62]]]\n",
            "\n",
            "\n",
            " [[[16 95  0]\n",
            "   [37 52  9]\n",
            "   [64 60 78]]\n",
            "\n",
            "  [[73  6 63]\n",
            "   [ 8 65 31]\n",
            "   [ 4 82 20]]\n",
            "\n",
            "  [[16 95  0]\n",
            "   [37 52  9]\n",
            "   [64 60 78]]\n",
            "\n",
            "  [[73  6 63]\n",
            "   [ 8 65 31]\n",
            "   [ 4 82 20]]]]\n",
            "Shape after transpose: (4, 4, 3, 3)\n"
          ]
        }
      ]
    },
    {
      "cell_type": "code",
      "source": [
        "\n",
        "\n",
        "\n",
        "import numpy as np\n",
        "\n",
        "array_3d = np.random.randint(0, 10, (3, 3, 3))\n",
        "print(\"Original 3D array:\")\n",
        "print(array_3d)\n",
        "print(array_3d.shape)\n",
        "\n",
        "\n",
        "# repeated_along_axis0 = np.repeat(array_3d, 2, axis=0)\n",
        "# print(\"\\nRepeated along axis 0:\")\n",
        "# print(repeated_along_axis0)\n",
        "# print(repeated_along_axis0.shape)\n",
        "\n",
        "repeated_along_axis1 = np.repeat(array_3d, 2, axis=1)\n",
        "print(\"\\nRepeated along axis 1:\")\n",
        "print(repeated_along_axis1)\n",
        "print(repeated_along_axis1.shape)\n",
        "\n",
        "# repeated_along_axis2 = np.repeat(array_3d, 2,axis = 0)\n",
        "# print(\"\\nRepeated along axis 0:\")\n",
        "# print(repeated_along_axis2)\n",
        "# print(repeated_along_axis2.shape)"
      ],
      "metadata": {
        "colab": {
          "base_uri": "https://localhost:8080/"
        },
        "id": "eGJwr1zHc3RR",
        "outputId": "d701dafd-3a8b-45d0-ec25-27b5de3ab71f"
      },
      "execution_count": null,
      "outputs": [
        {
          "output_type": "stream",
          "name": "stdout",
          "text": [
            "Original 3D array:\n",
            "[[[4 7 1]\n",
            "  [9 9 5]\n",
            "  [4 6 9]]\n",
            "\n",
            " [[6 9 7]\n",
            "  [3 4 8]\n",
            "  [8 3 6]]\n",
            "\n",
            " [[9 6 1]\n",
            "  [8 9 1]\n",
            "  [7 8 1]]]\n",
            "(3, 3, 3)\n",
            "\n",
            "Repeated along axis 1:\n",
            "[[[4 7 1]\n",
            "  [4 7 1]\n",
            "  [9 9 5]\n",
            "  [9 9 5]\n",
            "  [4 6 9]\n",
            "  [4 6 9]]\n",
            "\n",
            " [[6 9 7]\n",
            "  [6 9 7]\n",
            "  [3 4 8]\n",
            "  [3 4 8]\n",
            "  [8 3 6]\n",
            "  [8 3 6]]\n",
            "\n",
            " [[9 6 1]\n",
            "  [9 6 1]\n",
            "  [8 9 1]\n",
            "  [8 9 1]\n",
            "  [7 8 1]\n",
            "  [7 8 1]]]\n",
            "(3, 6, 3)\n"
          ]
        }
      ]
    },
    {
      "cell_type": "code",
      "source": [
        "import numpy as np\n",
        "\n",
        "# Original 3D array\n",
        "array_3d = np.array([[[4, 7, 1], [9, 9, 5], [4, 6, 9]],\n",
        "                     [[6, 9, 7], [3, 4, 8], [8, 3, 6]],\n",
        "                     [[9, 6, 1], [8, 9, 1], [7, 8, 1]]])\n",
        "\n",
        "# Repeat the array along axis 1\n",
        "repeated_along_axis1 = np.repeat(array_3d, 2, axis=1)\n",
        "print(\"Repeated along axis 1:\")\n",
        "print(repeated_along_axis1)\n",
        "print(repeated_along_axis1.shape)\n",
        "\n",
        "# Remove the last array\n",
        "modified_array = repeated_along_axis1[:-1]  # This slices out the last array\n",
        "print(\"\\nModified array after removing the last array:\")\n",
        "print(modified_array)\n",
        "print(modified_array.shape)\n"
      ],
      "metadata": {
        "id": "AGVIdZSghrJv",
        "colab": {
          "base_uri": "https://localhost:8080/"
        },
        "outputId": "731d6a9f-d28d-47c5-be71-e5b6b086de11"
      },
      "execution_count": null,
      "outputs": [
        {
          "output_type": "stream",
          "name": "stdout",
          "text": [
            "Repeated along axis 1:\n",
            "[[[4 7 1]\n",
            "  [4 7 1]\n",
            "  [9 9 5]\n",
            "  [9 9 5]\n",
            "  [4 6 9]\n",
            "  [4 6 9]]\n",
            "\n",
            " [[6 9 7]\n",
            "  [6 9 7]\n",
            "  [3 4 8]\n",
            "  [3 4 8]\n",
            "  [8 3 6]\n",
            "  [8 3 6]]\n",
            "\n",
            " [[9 6 1]\n",
            "  [9 6 1]\n",
            "  [8 9 1]\n",
            "  [8 9 1]\n",
            "  [7 8 1]\n",
            "  [7 8 1]]]\n",
            "(3, 6, 3)\n",
            "\n",
            "Modified array after removing the last array:\n",
            "[[[4 7 1]\n",
            "  [4 7 1]\n",
            "  [9 9 5]\n",
            "  [9 9 5]\n",
            "  [4 6 9]\n",
            "  [4 6 9]]\n",
            "\n",
            " [[6 9 7]\n",
            "  [6 9 7]\n",
            "  [3 4 8]\n",
            "  [3 4 8]\n",
            "  [8 3 6]\n",
            "  [8 3 6]]]\n",
            "(2, 6, 3)\n"
          ]
        }
      ]
    },
    {
      "cell_type": "code",
      "source": [
        "import numpy as np\n",
        "\n",
        "# Original 3D array\n",
        "array_3d = np.array([[[4, 7, 1], [9, 9, 5], [4, 6, 9]],\n",
        "                     [[6, 9, 7], [3, 4, 8], [8, 3, 6]],\n",
        "                     [[9, 6, 1], [8, 9, 1], [7, 8, 1]]])\n",
        "\n",
        "# Repeat the array along axis 1\n",
        "repeated_along_axis1 = np.repeat(array_3d, 2, axis=1)\n",
        "print(\"Repeated along axis 1:\")\n",
        "print(repeated_along_axis1)\n",
        "print(repeated_along_axis1.shape)\n",
        "\n",
        "# Using np.delete to remove the last array along axis 0\n",
        "modified_array = np.delete(repeated_along_axis1, 2, axis=0)\n",
        "print(\"\\nModified array after removing the last array using np.delete:\")\n",
        "print(modified_array)\n",
        "print(modified_array.shape)\n",
        "\n"
      ],
      "metadata": {
        "colab": {
          "base_uri": "https://localhost:8080/"
        },
        "id": "jmcnIh6OeAqH",
        "outputId": "76dccdde-c2f7-4c39-eafa-ee3ebcf4920d"
      },
      "execution_count": null,
      "outputs": [
        {
          "output_type": "stream",
          "name": "stdout",
          "text": [
            "Repeated along axis 1:\n",
            "[[[4 7 1]\n",
            "  [4 7 1]\n",
            "  [9 9 5]\n",
            "  [9 9 5]\n",
            "  [4 6 9]\n",
            "  [4 6 9]]\n",
            "\n",
            " [[6 9 7]\n",
            "  [6 9 7]\n",
            "  [3 4 8]\n",
            "  [3 4 8]\n",
            "  [8 3 6]\n",
            "  [8 3 6]]\n",
            "\n",
            " [[9 6 1]\n",
            "  [9 6 1]\n",
            "  [8 9 1]\n",
            "  [8 9 1]\n",
            "  [7 8 1]\n",
            "  [7 8 1]]]\n",
            "(3, 6, 3)\n",
            "\n",
            "Modified array after removing the last array using np.delete:\n",
            "[[[4 7 1]\n",
            "  [4 7 1]\n",
            "  [9 9 5]\n",
            "  [9 9 5]\n",
            "  [4 6 9]\n",
            "  [4 6 9]]\n",
            "\n",
            " [[6 9 7]\n",
            "  [6 9 7]\n",
            "  [3 4 8]\n",
            "  [3 4 8]\n",
            "  [8 3 6]\n",
            "  [8 3 6]]]\n",
            "(2, 6, 3)\n"
          ]
        }
      ]
    },
    {
      "cell_type": "code",
      "source": [
        "import numpy as np\n",
        "\n",
        "array_3d = np.random.randint(0, 10, (2, 3, 4))\n",
        "print(\"Original 3D array:\")\n",
        "print(array_3d)\n",
        "print(array_3d.shape)\n",
        "\n",
        "\n",
        "print(np.delete(array_3d,1,0))\n",
        "print(np.delete(array_3d,1,1))\n",
        "print(np.delete(array_3d,1,2))\n",
        "print(np.delete(array_3d,0,0))\n",
        "print(np.delete(array_3d,0,1))\n",
        "\n",
        "print('test')\n",
        "print(array_3d )"
      ],
      "metadata": {
        "colab": {
          "base_uri": "https://localhost:8080/"
        },
        "id": "LhuHK7g2-PS2",
        "outputId": "b268197b-64e3-439b-9a12-31fad8275edf"
      },
      "execution_count": null,
      "outputs": [
        {
          "output_type": "stream",
          "name": "stdout",
          "text": [
            "Original 3D array:\n",
            "[[[5 5 7 1]\n",
            "  [5 5 1 8]\n",
            "  [1 7 4 7]]\n",
            "\n",
            " [[8 7 4 3]\n",
            "  [5 7 6 3]\n",
            "  [1 7 9 2]]]\n",
            "(2, 3, 4)\n",
            "[[[5 5 7 1]\n",
            "  [5 5 1 8]\n",
            "  [1 7 4 7]]]\n",
            "test\n",
            "[[[5 5 7 1]\n",
            "  [5 5 1 8]\n",
            "  [1 7 4 7]]\n",
            "\n",
            " [[8 7 4 3]\n",
            "  [5 7 6 3]\n",
            "  [1 7 9 2]]]\n"
          ]
        }
      ]
    },
    {
      "cell_type": "code",
      "execution_count": null,
      "metadata": {
        "id": "JHs_VcS_3lef",
        "outputId": "ff27f376-26a1-4905-c917-e32efb3a2626",
        "colab": {
          "base_uri": "https://localhost:8080/"
        }
      },
      "outputs": [
        {
          "output_type": "stream",
          "name": "stdout",
          "text": [
            "(3, 4)\n",
            "[[ 1  2  3  4]\n",
            " [ 5  6  7  8]\n",
            " [ 9 10 11 12]]\n",
            "[[ 2  3  4]\n",
            " [ 6  7  8]\n",
            " [10 11 12]]\n"
          ]
        }
      ],
      "source": [
        "arr = np.array([[1,2,3,4], [5,6,7,8], [9,10,11,12]])\n",
        "print(arr.shape)\n",
        "print(arr)\n",
        "#np.delete(arr, 1,0)\n",
        "#print(np.delete(arr, 1,0))\n",
        "# arr = np.delete(arr, 0,1)\n",
        "#np.delete(arr, 1,0)\n",
        "# print(arr.shape)\n",
        "# # print(b)\n",
        "arr = np.delete(arr, 0,1)\n",
        "#               (<arrany Name>, Index #, Axis #)\n",
        "print(arr)\n"
      ]
    },
    {
      "cell_type": "code",
      "source": [
        "\n",
        "# Need an help\n",
        "import numpy as np\n",
        "\n",
        "a = np.array(42)\n",
        "b = np.array([1, 2, 3, 4, 5])\n",
        "c = np.array([[1, 2, 3], [4, 5, 6]])\n",
        "d = np.array([[[1, 2, 3], [4, 5, 6]], [[1, 2, 3], [4, 5, 6]]])\n",
        "\n",
        "print(a.ndim)\n",
        "print(b.ndim)\n",
        "print(c.ndim)\n",
        "print(d)\n",
        "print(d.ndim)"
      ],
      "metadata": {
        "colab": {
          "base_uri": "https://localhost:8080/"
        },
        "id": "KgKkLbXFVVOp",
        "outputId": "28711466-2a37-4dbd-e707-e9a97c692f61"
      },
      "execution_count": null,
      "outputs": [
        {
          "output_type": "stream",
          "name": "stdout",
          "text": [
            "0\n",
            "1\n",
            "2\n",
            "[[[1 2 3]\n",
            "  [4 5 6]]\n",
            "\n",
            " [[1 2 3]\n",
            "  [4 5 6]]]\n",
            "3\n"
          ]
        }
      ]
    },
    {
      "cell_type": "code",
      "execution_count": null,
      "metadata": {
        "id": "Wp0lunNW3lef",
        "outputId": "028a690e-d6e4-4eea-c495-f8c9f116ff60",
        "colab": {
          "base_uri": "https://localhost:8080/"
        }
      },
      "outputs": [
        {
          "output_type": "stream",
          "name": "stdout",
          "text": [
            "[[ 1  2  3  4]\n",
            " [ 5  6  7  8]\n",
            " [ 9 10 11 12]]\n",
            "[[ 1  2  3  4]\n",
            " [ 9 10 11 12]]\n"
          ]
        }
      ],
      "source": [
        "import numpy as np\n",
        "arr = np.array([[1,2,3,4], [5,6,7,8], [9,10,11,12]])\n",
        "print(arr)\n",
        "arr = np.delete(arr, 1, 0)\n",
        "print(arr)"
      ]
    },
    {
      "cell_type": "code",
      "execution_count": null,
      "metadata": {
        "id": "7-19p6f-3leg",
        "outputId": "d4761a5c-aeb0-473e-f634-8039ec5d1e46"
      },
      "outputs": [
        {
          "ename": "NameError",
          "evalue": "name 'a' is not defined",
          "output_type": "error",
          "traceback": [
            "\u001b[1;31m---------------------------------------------------------------------------\u001b[0m",
            "\u001b[1;31mNameError\u001b[0m                                 Traceback (most recent call last)",
            "\u001b[1;32m~\\AppData\\Local\\Temp/ipykernel_17476/1739083353.py\u001b[0m in \u001b[0;36m<module>\u001b[1;34m\u001b[0m\n\u001b[1;32m----> 1\u001b[1;33m \u001b[0ma\u001b[0m\u001b[1;33m.\u001b[0m\u001b[0mshape\u001b[0m\u001b[1;33m\u001b[0m\u001b[1;33m\u001b[0m\u001b[0m\n\u001b[0m",
            "\u001b[1;31mNameError\u001b[0m: name 'a' is not defined"
          ]
        }
      ],
      "source": [
        "a.shape"
      ]
    },
    {
      "cell_type": "code",
      "execution_count": null,
      "metadata": {
        "id": "ptMzhjSM3leg",
        "outputId": "9bf43994-c6ef-4400-f1e2-01abb83a37d5"
      },
      "outputs": [
        {
          "name": "stdout",
          "output_type": "stream",
          "text": [
            "(3, 4)\n",
            "[[ 1  2  3  4]\n",
            " [ 5  6  7  8]\n",
            " [ 9 10 11 12]]\n",
            "[[ 1  2  4]\n",
            " [ 5  6  8]\n",
            " [ 9 10 12]]\n"
          ]
        }
      ],
      "source": [
        "arr = np.array([[1,2,3,4], [5,6,7,8], [9,10,11,12]])\n",
        "print(arr.shape)\n",
        "print(arr)\n",
        "#np.delete(arr, 1,0)\n",
        "#print(np.delete(arr, 1,0))\n",
        "print(np.delete(arr, 2,1))"
      ]
    },
    {
      "cell_type": "code",
      "execution_count": null,
      "metadata": {
        "id": "e8zA38L43leg",
        "outputId": "855af420-32c9-4662-c39a-d8921b70f0f8",
        "colab": {
          "base_uri": "https://localhost:8080/"
        }
      },
      "outputs": [
        {
          "output_type": "stream",
          "name": "stdout",
          "text": [
            "Original Array:\n",
            " [[ 1  2  3]\n",
            " [ 4  5  6]\n",
            " [ 7  8  9]\n",
            " [10 11 12]]\n",
            "After Deleting Rows 1 and 3:\n",
            " [[1 2 3]\n",
            " [7 8 9]]\n",
            "After Deleting Columns 0 and 2:\n",
            " [[ 2]\n",
            " [ 5]\n",
            " [ 8]\n",
            " [11]]\n"
          ]
        }
      ],
      "source": [
        "import numpy as np\n",
        "\n",
        "# Create a 4x3 array\n",
        "arr = np.array([[1, 2, 3], [4, 5, 6], [7, 8, 9], [10, 11, 12]])\n",
        "\n",
        "# Delete rows 1 and 3\n",
        "new_array_rows_deleted = np.delete(arr, [1, 3], axis=0)\n",
        "\n",
        "# Delete columns 0 and 2\n",
        "new_array_cols_deleted = np.delete(arr, [0, 2], axis=1)\n",
        "\n",
        "print(\"Original Array:\\n\", arr)\n",
        "print(\"After Deleting Rows 1 and 3:\\n\", new_array_rows_deleted)\n",
        "print(\"After Deleting Columns 0 and 2:\\n\", new_array_cols_deleted)"
      ]
    },
    {
      "cell_type": "code",
      "execution_count": null,
      "metadata": {
        "id": "2gHaqlgI3leg",
        "outputId": "51eab3d3-81d5-45da-d064-a71a2fe9e3e7"
      },
      "outputs": [
        {
          "name": "stdout",
          "output_type": "stream",
          "text": [
            "Help on function delete in module numpy:\n",
            "\n",
            "delete(arr, obj, axis=None)\n",
            "    Return a new array with sub-arrays along an axis deleted. For a one\n",
            "    dimensional array, this returns those entries not returned by\n",
            "    `arr[obj]`.\n",
            "    \n",
            "    Parameters\n",
            "    ----------\n",
            "    arr : array_like\n",
            "        Input array.\n",
            "    obj : slice, int or array of ints\n",
            "        Indicate indices of sub-arrays to remove along the specified axis.\n",
            "    \n",
            "        .. versionchanged:: 1.19.0\n",
            "            Boolean indices are now treated as a mask of elements to remove,\n",
            "            rather than being cast to the integers 0 and 1.\n",
            "    \n",
            "    axis : int, optional\n",
            "        The axis along which to delete the subarray defined by `obj`.\n",
            "        If `axis` is None, `obj` is applied to the flattened array.\n",
            "    \n",
            "    Returns\n",
            "    -------\n",
            "    out : ndarray\n",
            "        A copy of `arr` with the elements specified by `obj` removed. Note\n",
            "        that `delete` does not occur in-place. If `axis` is None, `out` is\n",
            "        a flattened array.\n",
            "    \n",
            "    See Also\n",
            "    --------\n",
            "    insert : Insert elements into an array.\n",
            "    append : Append elements at the end of an array.\n",
            "    \n",
            "    Notes\n",
            "    -----\n",
            "    Often it is preferable to use a boolean mask. For example:\n",
            "    \n",
            "    >>> arr = np.arange(12) + 1\n",
            "    >>> mask = np.ones(len(arr), dtype=bool)\n",
            "    >>> mask[[0,2,4]] = False\n",
            "    >>> result = arr[mask,...]\n",
            "    \n",
            "    Is equivalent to `np.delete(arr, [0,2,4], axis=0)`, but allows further\n",
            "    use of `mask`.\n",
            "    \n",
            "    Examples\n",
            "    --------\n",
            "    >>> arr = np.array([[1,2,3,4], [5,6,7,8], [9,10,11,12]])\n",
            "    >>> arr\n",
            "    array([[ 1,  2,  3,  4],\n",
            "           [ 5,  6,  7,  8],\n",
            "           [ 9, 10, 11, 12]])\n",
            "    >>> np.delete(arr, 1, 0)\n",
            "    array([[ 1,  2,  3,  4],\n",
            "           [ 9, 10, 11, 12]])\n",
            "    \n",
            "    >>> np.delete(arr, np.s_[::2], 1)\n",
            "    array([[ 2,  4],\n",
            "           [ 6,  8],\n",
            "           [10, 12]])\n",
            "    >>> np.delete(arr, [1,3,5], None)\n",
            "    array([ 1,  3,  5,  7,  8,  9, 10, 11, 12])\n",
            "\n"
          ]
        }
      ],
      "source": [
        "help(np.delete)"
      ]
    },
    {
      "cell_type": "code",
      "execution_count": null,
      "metadata": {
        "id": "hFnjhQW53leh",
        "outputId": "193b6bb7-d7d4-4276-a36b-e2e0303f2c71"
      },
      "outputs": [
        {
          "name": "stdout",
          "output_type": "stream",
          "text": [
            "[[0 1]\n",
            " [2 3]]\n"
          ]
        },
        {
          "data": {
            "text/plain": [
              "array([2, 3])"
            ]
          },
          "execution_count": 27,
          "metadata": {},
          "output_type": "execute_result"
        }
      ],
      "source": [
        "a = np.arange(4).reshape((2,2))\n",
        "print(a)\n",
        "b = np.max(a, axis=0) # Maxima along the first axis\n",
        "b"
      ]
    },
    {
      "cell_type": "code",
      "execution_count": null,
      "metadata": {
        "id": "LwLbHpPb3leh",
        "outputId": "0a2b30ef-9920-4d28-c116-997b6eb88417"
      },
      "outputs": [
        {
          "name": "stdout",
          "output_type": "stream",
          "text": [
            "[[1 2 3]\n",
            " [2 3 4]]\n",
            "(2, 3)\n",
            "Max value of array a is 4\n",
            "Min value of array a is 1\n",
            "Sum of array 'a' is 15\n",
            "<class 'numpy.ndarray'>\n",
            "[3 5 7]\n",
            "[6 9]\n"
          ]
        }
      ],
      "source": [
        "a = np.array([(1,2,3),(2,3,4)])\n",
        "print(a)\n",
        "print(a.shape)\n",
        "print(\"Max value of array a is\", a.max())\n",
        "print(\"Min value of array a is\",a.min())\n",
        "print(\"Sum of array 'a' is\",a.sum())\n",
        "print(type(a))\n",
        "#Summing on Rows & Columns for row Sum use axis 1 for col sum use axis 0\n",
        "\n",
        "print(a.sum(axis = 0))\n",
        "\n",
        "print(a.sum(axis = 1))\n"
      ]
    },
    {
      "cell_type": "code",
      "execution_count": null,
      "metadata": {
        "scrolled": true,
        "id": "oilRgIlq3leh",
        "outputId": "2c1dfd25-ced7-4033-d31e-3577ee2ddb3e",
        "colab": {
          "base_uri": "https://localhost:8080/"
        }
      },
      "outputs": [
        {
          "output_type": "stream",
          "name": "stdout",
          "text": [
            "[[1.         1.41421356 1.73205081 2.        ]\n",
            " [1.73205081 2.         2.23606798 2.23606798]\n",
            " [1.         1.41421356 1.73205081 2.23606798]]\n",
            "Standard Devi 1.404358295529393\n",
            "[[ 2  4  6  8]\n",
            " [ 6  8 10 10]\n",
            " [ 2  4  6 11]]\n",
            "[[ 0  0  0  0]\n",
            " [ 0  0  0  0]\n",
            " [ 0  0  0 -1]]\n",
            "[[ 1  4  9 16]\n",
            " [ 9 16 25 25]\n",
            " [ 1  4  9 30]]\n",
            "[[1.         1.         1.         1.        ]\n",
            " [1.         1.         1.         1.        ]\n",
            " [1.         1.         1.         0.83333333]]\n"
          ]
        }
      ],
      "source": [
        "import numpy as np\n",
        "a = np.array([(1,2,3,4),(3,4,5,5),(1,2,3,5)])\n",
        "b = np.array([(1,2,3,4),(3,4,5,5),(1,2,3,6)])\n",
        "\n",
        "print(np.sqrt(a))\n",
        "################################\n",
        "#################################Std Deviation\n",
        "#################################How much each value varies from Mean\n",
        "print(\"Standard Devi\",np.std(a))\n",
        "\n",
        "################################### Matrix arthmatic function\n",
        "print(a+b)\n",
        "print(a-b)\n",
        "print(a*b)\n",
        "print(a/b)\n"
      ]
    },
    {
      "cell_type": "code",
      "execution_count": null,
      "metadata": {
        "scrolled": true,
        "id": "sbGYTaYv3leh",
        "outputId": "1f037e3b-0a6a-4d37-f8a0-4941af9b656c"
      },
      "outputs": [
        {
          "name": "stdout",
          "output_type": "stream",
          "text": [
            "[[1 2 3 4]\n",
            " [3 4 5 5]\n",
            " [1 2 3 5]]\n",
            "[[1 2 3 4]\n",
            " [3 4 5 5]\n",
            " [1 2 3 6]]\n",
            "(3, 4)\n",
            "(3, 4)\n",
            "(3, 8)\n",
            "[[1 2 3 4 1 2 3 4]\n",
            " [3 4 5 5 3 4 5 5]\n",
            " [1 2 3 5 1 2 3 6]]\n"
          ]
        }
      ],
      "source": [
        "print(a)\n",
        "print(b)\n",
        "print (np.shape(a))\n",
        "print (np.shape(b))\n",
        "print(np.hstack((a,b)).shape)\n",
        "print(np.hstack((a,b)))\n",
        "print(np.vstack([a,b]).shape)\n",
        "print(np.vstack([a,b]))"
      ]
    },
    {
      "cell_type": "code",
      "execution_count": null,
      "metadata": {
        "id": "6QUZNUQO3lei",
        "outputId": "e02e10ca-3a38-41f7-f78d-b1e1b51eb91e"
      },
      "outputs": [
        {
          "name": "stdout",
          "output_type": "stream",
          "text": [
            "[[1 2 3 4]\n",
            " [3 4 5 5]\n",
            " [1 2 3 5]]\n",
            "[[1 2 3 4]\n",
            " [3 4 5 5]\n",
            " [1 2 3 6]]\n",
            "(3, 4)\n",
            "(3, 4)\n",
            "(3, 8)\n",
            "[[1 2 3 4 1 2 3 4]\n",
            " [3 4 5 5 3 4 5 5]\n",
            " [1 2 3 6 1 2 3 5]]\n"
          ]
        }
      ],
      "source": [
        "print(a)\n",
        "print(b)\n",
        "print (np.shape(a))\n",
        "print (np.shape(b))\n",
        "print(np.hstack((b,a)).shape)\n",
        "print(np.hstack((b,a)))"
      ]
    },
    {
      "cell_type": "code",
      "execution_count": null,
      "metadata": {
        "id": "qhfXUTOM3lei",
        "outputId": "b5d803bf-f0fe-4d8e-b1fe-aac28afbadb9"
      },
      "outputs": [
        {
          "name": "stdout",
          "output_type": "stream",
          "text": [
            "(6, 4)\n",
            "[[1 2 3 4]\n",
            " [3 4 5 5]\n",
            " [1 2 3 5]\n",
            " [1 2 3 4]\n",
            " [3 4 5 5]\n",
            " [1 2 3 6]]\n"
          ]
        }
      ],
      "source": [
        "print(np.vstack((a,b)).shape)\n",
        "print(np.vstack((a,b)))"
      ]
    },
    {
      "cell_type": "code",
      "execution_count": null,
      "metadata": {
        "id": "I615oaox3lej",
        "outputId": "93a4a658-4189-43ff-f033-afa7e7c7bd27"
      },
      "outputs": [
        {
          "name": "stdout",
          "output_type": "stream",
          "text": [
            "[[1 2 3 4]\n",
            " [3 4 5 5]\n",
            " [1 2 3 5]] [[1 2 3 4]\n",
            " [3 4 5 5]\n",
            " [1 2 3 6]]\n"
          ]
        }
      ],
      "source": [
        "print(a,b)\n",
        "print"
      ]
    },
    {
      "cell_type": "code",
      "execution_count": null,
      "metadata": {
        "id": "THrtReuS3lej",
        "outputId": "b268ef58-d7b4-4994-c9ca-483920e59a29"
      },
      "outputs": [
        {
          "name": "stdout",
          "output_type": "stream",
          "text": [
            "[[1 2 3 4]\n",
            " [3 4 5 5]\n",
            " [1 2 3 5]]\n",
            "[1 2 3 4 3 4 5 5 1 2 3 5]\n"
          ]
        }
      ],
      "source": [
        "print(a)\n",
        "print(a.ravel())\n",
        "#print(a.ravel().shape)\n"
      ]
    },
    {
      "cell_type": "code",
      "source": [
        "a\n",
        "# a.shape"
      ],
      "metadata": {
        "colab": {
          "base_uri": "https://localhost:8080/"
        },
        "id": "PJqj5xnGGSoh",
        "outputId": "10f67872-8502-4a28-a600-7d40fc9b1b50"
      },
      "execution_count": null,
      "outputs": [
        {
          "output_type": "execute_result",
          "data": {
            "text/plain": [
              "array([[1, 2, 3, 4],\n",
              "       [3, 4, 5, 5],\n",
              "       [1, 2, 3, 5]])"
            ]
          },
          "metadata": {},
          "execution_count": 12
        }
      ]
    },
    {
      "cell_type": "code",
      "source": [
        "a.T"
      ],
      "metadata": {
        "id": "xQpKyNeZGZjc",
        "outputId": "b064752e-198a-4821-eb82-de50c41fdec5",
        "colab": {
          "base_uri": "https://localhost:8080/"
        }
      },
      "execution_count": null,
      "outputs": [
        {
          "output_type": "execute_result",
          "data": {
            "text/plain": [
              "array([[1, 3, 1],\n",
              "       [2, 4, 2],\n",
              "       [3, 5, 3],\n",
              "       [4, 5, 5]])"
            ]
          },
          "metadata": {},
          "execution_count": 11
        }
      ]
    },
    {
      "cell_type": "code",
      "execution_count": null,
      "metadata": {
        "id": "9JhDDQ8Y3lej",
        "outputId": "353e25c9-2919-44c7-fb20-2a80d8242826",
        "colab": {
          "base_uri": "https://localhost:8080/"
        }
      },
      "outputs": [
        {
          "output_type": "stream",
          "name": "stdout",
          "text": [
            "[5.51497601 4.50695759 4.78208486 5.38508733 4.8610072  5.48080951\n",
            " 4.7153069  5.67562879 4.3796621  5.71976195]\n",
            "4.37966210444025\n",
            "5.719761946705602\n",
            "5.102128225628156\n",
            "5.12304726602236\n",
            "0.4786090473492362\n"
          ]
        }
      ],
      "source": [
        "import numpy as np\n",
        "import sys\n",
        "#np.set_printoptions(threshold =sys.maxsize)\n",
        "normal_array = np.random.normal(5, 0.5, 10)\n",
        "print(normal_array)\n",
        "#Example:Statistical function\n",
        "\n",
        "### Min\n",
        "print(np.min(normal_array))\n",
        "\n",
        "### Max\n",
        "print(np.max(normal_array))\n",
        "\n",
        "### Mean\n",
        "print(np.mean(normal_array))\n",
        "\n",
        "### Median\n",
        "print(np.median(normal_array))\n",
        "\n",
        "### Sd\n",
        "print(np.std(normal_array))\n"
      ]
    },
    {
      "cell_type": "code",
      "source": [
        "help(np.raval)"
      ],
      "metadata": {
        "id": "OSqQxenPm1U6"
      },
      "execution_count": null,
      "outputs": []
    },
    {
      "cell_type": "code",
      "execution_count": null,
      "metadata": {
        "id": "7dlA7qDg3lek",
        "outputId": "f3b3078f-10a9-4d0a-b838-19e2f9542280"
      },
      "outputs": [
        {
          "name": "stdout",
          "output_type": "stream",
          "text": [
            "[ 0  1  2  3  4  5  6  7  8  9 10 11 12 13 14 15 16 17 18 19]\n",
            "slice(2, 14, 2)\n",
            "<class 'slice'>\n",
            "[ 2  4  6  8 10 12]\n"
          ]
        }
      ],
      "source": [
        "import numpy as np\n",
        "a = np.arange(20)\n",
        "print(a)\n",
        "s = slice(2,14,2)\n",
        "print(s)\n",
        "print(type(s))\n",
        "print (a[s])"
      ]
    },
    {
      "cell_type": "code",
      "execution_count": null,
      "metadata": {
        "id": "-4eN9b1v3lek",
        "outputId": "fb1b92f0-6d77-4073-c56f-dee165257e7a"
      },
      "outputs": [
        {
          "name": "stdout",
          "output_type": "stream",
          "text": [
            "[ 0  1  2  3  4  5  6  7  8  9 10 11 12 13 14 15 16 17 18 19]\n",
            "slice(2, 19, 4)\n",
            "<class 'slice'>\n",
            "[ 2  6 10 14 18]\n"
          ]
        }
      ],
      "source": [
        "import numpy as np\n",
        "a = np.arange(20)\n",
        "print(a)\n",
        "s = slice(2,19,4)\n",
        "print(s)\n",
        "print(type(s))\n",
        "print (a[s])"
      ]
    },
    {
      "cell_type": "code",
      "execution_count": null,
      "metadata": {
        "id": "fM9rAQXP3lek",
        "outputId": "4b35f5c0-54e9-473c-c2e7-2e1c35f57da5"
      },
      "outputs": [
        {
          "name": "stdout",
          "output_type": "stream",
          "text": [
            "[0 1 2 3 4 5 6 7 8 9]\n",
            "slice(2, 4, None)\n",
            "<class 'slice'>\n",
            "[2 3]\n"
          ]
        }
      ],
      "source": [
        "import numpy as np\n",
        "a = np.arange(10)\n",
        "print(a)\n",
        "s = slice(2,4)\n",
        "print(s)\n",
        "print(type(s))\n",
        "print (a[s])\n",
        "\n",
        "\n"
      ]
    },
    {
      "cell_type": "code",
      "execution_count": null,
      "metadata": {
        "id": "EPCpSqCu3lel",
        "outputId": "ef36de56-116a-4a58-fdce-6b786a8be773"
      },
      "outputs": [
        {
          "name": "stdout",
          "output_type": "stream",
          "text": [
            "(10,)\n",
            "[0 1 2 3 4 5 6 7 8 9]\n",
            "<class 'numpy.ndarray'>\n",
            "(7,)\n",
            "[2 3 4 5 6 7 8]\n"
          ]
        }
      ],
      "source": [
        "import numpy as np\n",
        "a = np.arange(10)\n",
        "print(a.shape)\n",
        "print(a)\n",
        "\n",
        "b = a[2:9]\n",
        "print(type(b))\n",
        "print(b.shape)\n",
        "print (b)\n"
      ]
    },
    {
      "cell_type": "code",
      "execution_count": null,
      "metadata": {
        "id": "axq_7Zlr3lel",
        "outputId": "26a0324c-a616-4067-8c29-fcab93cdd17a"
      },
      "outputs": [
        {
          "name": "stdout",
          "output_type": "stream",
          "text": [
            "[0 1 2 3 4 5 6 7 8 9]\n",
            "[4 5 6]\n"
          ]
        }
      ],
      "source": [
        "a = np.arange(10)\n",
        "print(a)\n",
        "b = a[4:7]\n",
        "print (b)"
      ]
    },
    {
      "cell_type": "code",
      "execution_count": null,
      "metadata": {
        "id": "xAg6WZnX3lel"
      },
      "outputs": [],
      "source": [
        "np."
      ]
    },
    {
      "cell_type": "code",
      "execution_count": null,
      "metadata": {
        "scrolled": true,
        "id": "cY574-wN3lem",
        "outputId": "f2d62ecf-187c-4a0f-c552-8140372a92d7"
      },
      "outputs": [
        {
          "name": "stdout",
          "output_type": "stream",
          "text": [
            "Now we will slice the array from the index a[1:]\n",
            "[100 101 102 103 104 105 106 107 108 109 110 111 112 113 114 115 116 117\n",
            " 118 119]\n",
            "[105 106 107 108 109 110 111 112 113 114 115 116 117 118 119]\n"
          ]
        }
      ],
      "source": [
        "a = np.arange(100, 120)\n",
        "# slice items starting from index\n",
        "print ('Now we will slice the array from the index a[1:]' )\n",
        "print(a)\n",
        "print (a[5:])\n"
      ]
    },
    {
      "cell_type": "code",
      "execution_count": null,
      "metadata": {
        "id": "5HJwsNh73lem"
      },
      "outputs": [],
      "source": [
        "import pandas\n",
        "#E:\\\\Documents\\\\Kiran\\\\Accenture\\\\Python\\\\sfo.csv\n",
        "df = pandas.read_csv(r\"E:\\Documents\\Kiran\\Accenture\\Python\\sfo.csv\")\n",
        "print (df)"
      ]
    },
    {
      "cell_type": "code",
      "execution_count": null,
      "metadata": {
        "id": "iyi8nORV3lem"
      },
      "outputs": [],
      "source": [
        "a = 'can\\'t'\n",
        "a"
      ]
    },
    {
      "cell_type": "code",
      "execution_count": null,
      "metadata": {
        "id": "05i2tyhT3lem"
      },
      "outputs": [],
      "source": [
        "print(df.head(3))\n",
        "print(df.tail(8))\n",
        "print(df.sample(6))"
      ]
    },
    {
      "cell_type": "code",
      "execution_count": null,
      "metadata": {
        "id": "ZSiODZ1o3len"
      },
      "outputs": [],
      "source": [
        "df.tail(6)"
      ]
    },
    {
      "cell_type": "code",
      "execution_count": null,
      "metadata": {
        "id": "CUMWaWME3len"
      },
      "outputs": [],
      "source": [
        "df.sample(4)"
      ]
    },
    {
      "cell_type": "code",
      "execution_count": null,
      "metadata": {
        "id": "vZQMC8e33len"
      },
      "outputs": [],
      "source": [
        "df.columns"
      ]
    },
    {
      "cell_type": "code",
      "execution_count": null,
      "metadata": {
        "id": "8RPNGoAo3leo"
      },
      "outputs": [],
      "source": [
        "print(df)"
      ]
    },
    {
      "cell_type": "code",
      "execution_count": null,
      "metadata": {
        "id": "H2_TgxS83leo"
      },
      "outputs": [],
      "source": [
        "print(df[df['temperature'] == df['temperature'].max()])"
      ]
    },
    {
      "cell_type": "code",
      "execution_count": null,
      "metadata": {
        "id": "BIkvEOdM3leo"
      },
      "outputs": [],
      "source": [
        "df['temperature'].max()"
      ]
    },
    {
      "cell_type": "code",
      "execution_count": null,
      "metadata": {
        "id": "gH-LBvdf3leo"
      },
      "outputs": [],
      "source": [
        "print(df[['event','day','temperature']])"
      ]
    },
    {
      "cell_type": "code",
      "execution_count": null,
      "metadata": {
        "id": "LfYSfIw43lep"
      },
      "outputs": [],
      "source": [
        "df.info()"
      ]
    },
    {
      "cell_type": "code",
      "execution_count": null,
      "metadata": {
        "id": "1HDWrqMc3lep"
      },
      "outputs": [],
      "source": [
        "df.describe()"
      ]
    },
    {
      "cell_type": "code",
      "execution_count": null,
      "metadata": {
        "id": "WCfZHgk13lep"
      },
      "outputs": [],
      "source": [
        "df"
      ]
    },
    {
      "cell_type": "code",
      "execution_count": null,
      "metadata": {
        "id": "if5maYa93lep"
      },
      "outputs": [],
      "source": [
        "print (df.set_index('day'))"
      ]
    },
    {
      "cell_type": "code",
      "execution_count": null,
      "metadata": {
        "id": "RFNu-FcU3leq"
      },
      "outputs": [],
      "source": [
        "print (df.set_index('day',inplace = True))\n",
        "df"
      ]
    },
    {
      "cell_type": "code",
      "execution_count": null,
      "metadata": {
        "id": "7_5LvCWm3leq"
      },
      "outputs": [],
      "source": [
        "df"
      ]
    },
    {
      "cell_type": "code",
      "execution_count": null,
      "metadata": {
        "id": "Tg-725tx3leq"
      },
      "outputs": [],
      "source": [
        "df.loc['1/10/2018']"
      ]
    },
    {
      "cell_type": "code",
      "execution_count": null,
      "metadata": {
        "id": "W7seGHxO3leq"
      },
      "outputs": [],
      "source": [
        "print (df.reset_index(inplace=True))\n",
        "print(df)"
      ]
    },
    {
      "cell_type": "code",
      "execution_count": null,
      "metadata": {
        "id": "kEg-qWPe3leq"
      },
      "outputs": [],
      "source": [
        "df"
      ]
    },
    {
      "cell_type": "code",
      "execution_count": null,
      "metadata": {
        "id": "Xt-z1o8Z3ler"
      },
      "outputs": [],
      "source": [
        "#DF using excel\n",
        "df = pd.read_excel(\"C:\\\\Users\\\\Admin\\\\Documents\\\\Kiran\\\\Documents\\\\Kiran\\\\Accenture\\\\Python\\\\sfo.xlsx\",\"Sheet1\")\n"
      ]
    },
    {
      "cell_type": "code",
      "execution_count": null,
      "metadata": {
        "id": "m0TEIbDq3ler"
      },
      "outputs": [],
      "source": [
        "##df using Dictonary\n",
        "import pandas\n",
        "weather_data = {\n",
        "       'day':['1/1/2018','1/2/2018','1/3/2018'],\n",
        "       'temperature':[32,34,36],\n",
        "       'windspeed':[6,7,8],\n",
        "       'event' :['rain','sunny','snow']\n",
        "  }\n",
        "df = pandas.DataFrame(weather_data)\n",
        "print(df)\n"
      ]
    },
    {
      "cell_type": "code",
      "execution_count": null,
      "metadata": {
        "id": "IXTStOz53ler"
      },
      "outputs": [],
      "source": [
        "#df using tuple\n",
        "import pandas\n",
        "weather_data = [\n",
        "   ('1/1/2018',32,6,'rain'),\n",
        "   ('1/2/2018',34,7,'snow'),\n",
        "   ('1/3/2018',36,5,'sunny'),\n",
        "]\n",
        "df = pandas.DataFrame(weather_data, columns=['day','temperature','windspeed','event'])\n",
        "df"
      ]
    },
    {
      "cell_type": "code",
      "execution_count": null,
      "metadata": {
        "id": "BwEKGdBj3les"
      },
      "outputs": [],
      "source": []
    }
  ],
  "metadata": {
    "kernelspec": {
      "display_name": "Python 3 (ipykernel)",
      "language": "python",
      "name": "python3"
    },
    "language_info": {
      "codemirror_mode": {
        "name": "ipython",
        "version": 3
      },
      "file_extension": ".py",
      "mimetype": "text/x-python",
      "name": "python",
      "nbconvert_exporter": "python",
      "pygments_lexer": "ipython3",
      "version": "3.9.7"
    },
    "colab": {
      "provenance": []
    }
  },
  "nbformat": 4,
  "nbformat_minor": 0
}