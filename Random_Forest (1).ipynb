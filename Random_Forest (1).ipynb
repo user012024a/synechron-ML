{
  "nbformat": 4,
  "nbformat_minor": 0,
  "metadata": {
    "colab": {
      "provenance": []
    },
    "kernelspec": {
      "name": "python3",
      "display_name": "Python 3"
    },
    "language_info": {
      "name": "python"
    }
  },
  "cells": [
    {
      "cell_type": "code",
      "metadata": {
        "id": "z3L3EVhWWOwx"
      },
      "source": [
        "import pandas as pd\n",
        "import sklearn as sk\n",
        "import numpy as np\n",
        "import scipy as sp\n"
      ],
      "execution_count": null,
      "outputs": []
    },
    {
      "cell_type": "code",
      "metadata": {
        "colab": {
          "base_uri": "https://localhost:8080/"
        },
        "id": "8EyatOCJWYFs",
        "outputId": "9b79236c-052c-4a5d-c868-81dd9dcaefae"
      },
      "source": [
        "#Importing dataset\n",
        "car_train=pd.read_csv(\"/content/sample_data/train.csv\")\n",
        "car_test=pd.read_csv(\"/content/sample_data/test.csv\")\n",
        "car_test.shape"
      ],
      "execution_count": null,
      "outputs": [
        {
          "output_type": "execute_result",
          "data": {
            "text/plain": [
              "(9065, 23)"
            ]
          },
          "metadata": {
            "tags": []
          },
          "execution_count": 16
        }
      ]
    },
    {
      "cell_type": "code",
      "metadata": {
        "id": "_Nja-Q1CWn1F"
      },
      "source": [
        "from sklearn import tree\n",
        "\n",
        "var=list(car_train.columns[1:22])\n",
        "c=car_train[var]\n",
        "d=car_train['Fatal']\n"
      ],
      "execution_count": null,
      "outputs": []
    },
    {
      "cell_type": "code",
      "metadata": {
        "colab": {
          "base_uri": "https://localhost:8080/"
        },
        "id": "mHmIA6L2WqpF",
        "outputId": "75ffb335-b656-44b8-b453-6a33aaafd079"
      },
      "source": [
        "c.shape"
      ],
      "execution_count": null,
      "outputs": [
        {
          "output_type": "execute_result",
          "data": {
            "text/plain": [
              "(15109, 21)"
            ]
          },
          "metadata": {
            "tags": []
          },
          "execution_count": 18
        }
      ]
    },
    {
      "cell_type": "code",
      "metadata": {
        "colab": {
          "base_uri": "https://localhost:8080/"
        },
        "id": "fH-KW-r5Wrt1",
        "outputId": "f829e63d-e853-4f97-f554-961a4c98247a"
      },
      "source": [
        "d"
      ],
      "execution_count": null,
      "outputs": [
        {
          "output_type": "execute_result",
          "data": {
            "text/plain": [
              "0        1\n",
              "1        1\n",
              "2        1\n",
              "3        1\n",
              "4        1\n",
              "        ..\n",
              "15104    1\n",
              "15105    1\n",
              "15106    1\n",
              "15107    1\n",
              "15108    1\n",
              "Name: Fatal, Length: 15109, dtype: int64"
            ]
          },
          "metadata": {
            "tags": []
          },
          "execution_count": 19
        }
      ]
    },
    {
      "cell_type": "code",
      "metadata": {
        "colab": {
          "base_uri": "https://localhost:8080/"
        },
        "id": "WY8Ewkt7Wsul",
        "outputId": "088c03c7-39e7-4920-d4a8-7c80a4329ed2"
      },
      "source": [
        "###buildng Decision tree on the training data ####\n",
        "clf = tree.DecisionTreeClassifier()\n",
        "clf.fit(c,d)\n"
      ],
      "execution_count": null,
      "outputs": [
        {
          "output_type": "execute_result",
          "data": {
            "text/plain": [
              "DecisionTreeClassifier(ccp_alpha=0.0, class_weight=None, criterion='gini',\n",
              "                       max_depth=None, max_features=None, max_leaf_nodes=None,\n",
              "                       min_impurity_decrease=0.0, min_impurity_split=None,\n",
              "                       min_samples_leaf=1, min_samples_split=2,\n",
              "                       min_weight_fraction_leaf=0.0, presort='deprecated',\n",
              "                       random_state=None, splitter='best')"
            ]
          },
          "metadata": {
            "tags": []
          },
          "execution_count": 20
        }
      ]
    },
    {
      "cell_type": "code",
      "metadata": {
        "id": "Q-9LyAW6Wv55"
      },
      "source": [
        "#####predicting on test data ####\n",
        "tree_predict=clf.predict(car_test[var])\n"
      ],
      "execution_count": null,
      "outputs": []
    },
    {
      "cell_type": "code",
      "metadata": {
        "colab": {
          "base_uri": "https://localhost:8080/"
        },
        "id": "T51xLS_0W10p",
        "outputId": "5aee4dd9-a48a-4bea-96e1-6bfa8813029b"
      },
      "source": [
        "from sklearn.metrics import confusion_matrix###for using confusion matrix###\n",
        "cm1 = confusion_matrix(car_test[['Fatal']],tree_predict)\n",
        "print(cm1)\n"
      ],
      "execution_count": null,
      "outputs": [
        {
          "output_type": "stream",
          "text": [
            "[[3232  660]\n",
            " [ 716 4457]]\n"
          ],
          "name": "stdout"
        }
      ]
    },
    {
      "cell_type": "code",
      "metadata": {
        "colab": {
          "base_uri": "https://localhost:8080/"
        },
        "id": "o_0DP4q_W4Bs",
        "outputId": "032798d2-5734-4538-847a-d637b50bb807"
      },
      "source": [
        "#####from confusion matrix calculate accuracy\n",
        "total1=sum(sum(cm1))\n",
        "accuracy_tree=(cm1[0,0]+cm1[1,1])/total1\n",
        "accuracy_tree\n"
      ],
      "execution_count": null,
      "outputs": [
        {
          "output_type": "execute_result",
          "data": {
            "text/plain": [
              "0.8482073910645339"
            ]
          },
          "metadata": {
            "tags": []
          },
          "execution_count": 23
        }
      ]
    },
    {
      "cell_type": "code",
      "metadata": {
        "id": "LwsCN_3TW6IR"
      },
      "source": [
        "####Building Random Forest Model\n",
        "from sklearn.ensemble import RandomForestClassifier\n",
        "#forest=RandomForestClassifier(n_estimators=10,  min_samples_split=2, min_samples_leaf=1)\n",
        "forest=RandomForestClassifier(n_estimators=50, max_features= 5)\n",
        "     #max_features if Auto , then it takes Sq root of features\n",
        "\n",
        "forest.fit(c,d)\n",
        "\n",
        "forestpredict_test=forest.predict(car_test[var])\n",
        "e=car_test['Fatal']\n"
      ],
      "execution_count": null,
      "outputs": []
    },
    {
      "cell_type": "code",
      "metadata": {
        "colab": {
          "base_uri": "https://localhost:8080/"
        },
        "id": "PvWbXJPoW8em",
        "outputId": "a7f9ee58-e9a5-4786-be4b-0f559a3fc435"
      },
      "source": [
        "###check the accuracy on test data\n",
        "from sklearn.metrics import confusion_matrix###for using confusion matrix###\n",
        "cm2 = confusion_matrix(car_test[['Fatal']],forestpredict_test)\n",
        "print(cm2)\n",
        "total2=sum(sum(cm2))\n"
      ],
      "execution_count": null,
      "outputs": [
        {
          "output_type": "stream",
          "text": [
            "[[3376  516]\n",
            " [ 290 4883]]\n"
          ],
          "name": "stdout"
        }
      ]
    },
    {
      "cell_type": "code",
      "metadata": {
        "colab": {
          "base_uri": "https://localhost:8080/"
        },
        "id": "5fPf5gIGW-Wx",
        "outputId": "56112498-bdef-4ced-dcb7-cb319be1064f"
      },
      "source": [
        "#####from confusion matrix calculate accuracy\n",
        "accuracy_forest=(cm2[0,0]+cm2[1,1])/total2\n",
        "accuracy_forest\n"
      ],
      "execution_count": null,
      "outputs": [
        {
          "output_type": "execute_result",
          "data": {
            "text/plain": [
              "0.9110865968008826"
            ]
          },
          "metadata": {
            "tags": []
          },
          "execution_count": 26
        }
      ]
    },
    {
      "cell_type": "code",
      "metadata": {
        "id": "nz8fwHvNXBOT"
      },
      "source": [
        "#Boosting\n",
        "##################################################################\n",
        "#################LAB: Boosting\n",
        "\n",
        "#importing the datasets\n",
        "menu_train=pd.read_csv(\"/content/sample_data/Ecom_train.csv\")\n",
        "menu_test=pd.read_csv(\"/content/sample_data/Ecom_test.csv\")\n",
        "\n",
        "\n",
        "lab=list(menu_train.columns[1:101])\n",
        "g=menu_train[lab]\n",
        "h=menu_train['Category']\n"
      ],
      "execution_count": null,
      "outputs": []
    },
    {
      "cell_type": "code",
      "metadata": {
        "colab": {
          "base_uri": "https://localhost:8080/",
          "height": 253
        },
        "id": "p4UK862de6kx",
        "outputId": "6c3fb550-50bc-4f9f-953d-bc4ece1d942e"
      },
      "source": [
        "menu_train.head()"
      ],
      "execution_count": null,
      "outputs": [
        {
          "output_type": "execute_result",
          "data": {
            "text/html": [
              "<div>\n",
              "<style scoped>\n",
              "    .dataframe tbody tr th:only-of-type {\n",
              "        vertical-align: middle;\n",
              "    }\n",
              "\n",
              "    .dataframe tbody tr th {\n",
              "        vertical-align: top;\n",
              "    }\n",
              "\n",
              "    .dataframe thead th {\n",
              "        text-align: right;\n",
              "    }\n",
              "</style>\n",
              "<table border=\"1\" class=\"dataframe\">\n",
              "  <thead>\n",
              "    <tr style=\"text-align: right;\">\n",
              "      <th></th>\n",
              "      <th>id</th>\n",
              "      <th>spec1</th>\n",
              "      <th>spec2</th>\n",
              "      <th>spec3</th>\n",
              "      <th>spec4</th>\n",
              "      <th>spec5</th>\n",
              "      <th>spec6</th>\n",
              "      <th>spec7</th>\n",
              "      <th>spec8</th>\n",
              "      <th>spec9</th>\n",
              "      <th>spec10</th>\n",
              "      <th>spec11</th>\n",
              "      <th>spec12</th>\n",
              "      <th>spec13</th>\n",
              "      <th>spec14</th>\n",
              "      <th>spec15</th>\n",
              "      <th>spec16</th>\n",
              "      <th>spec17</th>\n",
              "      <th>spec18</th>\n",
              "      <th>spec19</th>\n",
              "      <th>spec20</th>\n",
              "      <th>spec21</th>\n",
              "      <th>spec22</th>\n",
              "      <th>spec23</th>\n",
              "      <th>spec24</th>\n",
              "      <th>spec25</th>\n",
              "      <th>spec26</th>\n",
              "      <th>spec27</th>\n",
              "      <th>spec28</th>\n",
              "      <th>spec29</th>\n",
              "      <th>spec30</th>\n",
              "      <th>spec31</th>\n",
              "      <th>spec32</th>\n",
              "      <th>spec33</th>\n",
              "      <th>spec34</th>\n",
              "      <th>spec35</th>\n",
              "      <th>spec36</th>\n",
              "      <th>spec37</th>\n",
              "      <th>spec38</th>\n",
              "      <th>spec39</th>\n",
              "      <th>...</th>\n",
              "      <th>spec62</th>\n",
              "      <th>spec63</th>\n",
              "      <th>spec64</th>\n",
              "      <th>spec65</th>\n",
              "      <th>spec66</th>\n",
              "      <th>spec67</th>\n",
              "      <th>spec68</th>\n",
              "      <th>spec69</th>\n",
              "      <th>spec70</th>\n",
              "      <th>spec71</th>\n",
              "      <th>spec72</th>\n",
              "      <th>spec73</th>\n",
              "      <th>spec74</th>\n",
              "      <th>spec75</th>\n",
              "      <th>spec76</th>\n",
              "      <th>spec77</th>\n",
              "      <th>spec78</th>\n",
              "      <th>spec79</th>\n",
              "      <th>spec80</th>\n",
              "      <th>spec81</th>\n",
              "      <th>spec82</th>\n",
              "      <th>spec83</th>\n",
              "      <th>spec84</th>\n",
              "      <th>spec85</th>\n",
              "      <th>spec86</th>\n",
              "      <th>spec87</th>\n",
              "      <th>spec88</th>\n",
              "      <th>spec89</th>\n",
              "      <th>spec90</th>\n",
              "      <th>spec91</th>\n",
              "      <th>spec92</th>\n",
              "      <th>spec93</th>\n",
              "      <th>spec94</th>\n",
              "      <th>spec95</th>\n",
              "      <th>spec96</th>\n",
              "      <th>spec97</th>\n",
              "      <th>spec98</th>\n",
              "      <th>spec99</th>\n",
              "      <th>spec100</th>\n",
              "      <th>Category</th>\n",
              "    </tr>\n",
              "  </thead>\n",
              "  <tbody>\n",
              "    <tr>\n",
              "      <th>0</th>\n",
              "      <td>1</td>\n",
              "      <td>1</td>\n",
              "      <td>0</td>\n",
              "      <td>0</td>\n",
              "      <td>0</td>\n",
              "      <td>0</td>\n",
              "      <td>0</td>\n",
              "      <td>0</td>\n",
              "      <td>0</td>\n",
              "      <td>0</td>\n",
              "      <td>0</td>\n",
              "      <td>1</td>\n",
              "      <td>0</td>\n",
              "      <td>0</td>\n",
              "      <td>0</td>\n",
              "      <td>0</td>\n",
              "      <td>0</td>\n",
              "      <td>2</td>\n",
              "      <td>0</td>\n",
              "      <td>0</td>\n",
              "      <td>0</td>\n",
              "      <td>0</td>\n",
              "      <td>1</td>\n",
              "      <td>0</td>\n",
              "      <td>4</td>\n",
              "      <td>1</td>\n",
              "      <td>1</td>\n",
              "      <td>0</td>\n",
              "      <td>0</td>\n",
              "      <td>2</td>\n",
              "      <td>0</td>\n",
              "      <td>0</td>\n",
              "      <td>0</td>\n",
              "      <td>0</td>\n",
              "      <td>0</td>\n",
              "      <td>1</td>\n",
              "      <td>0</td>\n",
              "      <td>0</td>\n",
              "      <td>0</td>\n",
              "      <td>0</td>\n",
              "      <td>...</td>\n",
              "      <td>1</td>\n",
              "      <td>1</td>\n",
              "      <td>0</td>\n",
              "      <td>1</td>\n",
              "      <td>0</td>\n",
              "      <td>7</td>\n",
              "      <td>0</td>\n",
              "      <td>0</td>\n",
              "      <td>0</td>\n",
              "      <td>1</td>\n",
              "      <td>0</td>\n",
              "      <td>0</td>\n",
              "      <td>0</td>\n",
              "      <td>0</td>\n",
              "      <td>0</td>\n",
              "      <td>0</td>\n",
              "      <td>0</td>\n",
              "      <td>2</td>\n",
              "      <td>1</td>\n",
              "      <td>0</td>\n",
              "      <td>0</td>\n",
              "      <td>0</td>\n",
              "      <td>0</td>\n",
              "      <td>1</td>\n",
              "      <td>0</td>\n",
              "      <td>0</td>\n",
              "      <td>0</td>\n",
              "      <td>0</td>\n",
              "      <td>0</td>\n",
              "      <td>2</td>\n",
              "      <td>8</td>\n",
              "      <td>9</td>\n",
              "      <td>0</td>\n",
              "      <td>4</td>\n",
              "      <td>0</td>\n",
              "      <td>12</td>\n",
              "      <td>0</td>\n",
              "      <td>0</td>\n",
              "      <td>0</td>\n",
              "      <td>Mobiles</td>\n",
              "    </tr>\n",
              "    <tr>\n",
              "      <th>1</th>\n",
              "      <td>2</td>\n",
              "      <td>0</td>\n",
              "      <td>0</td>\n",
              "      <td>0</td>\n",
              "      <td>0</td>\n",
              "      <td>0</td>\n",
              "      <td>0</td>\n",
              "      <td>0</td>\n",
              "      <td>1</td>\n",
              "      <td>0</td>\n",
              "      <td>0</td>\n",
              "      <td>0</td>\n",
              "      <td>0</td>\n",
              "      <td>0</td>\n",
              "      <td>0</td>\n",
              "      <td>0</td>\n",
              "      <td>0</td>\n",
              "      <td>0</td>\n",
              "      <td>2</td>\n",
              "      <td>0</td>\n",
              "      <td>0</td>\n",
              "      <td>0</td>\n",
              "      <td>0</td>\n",
              "      <td>0</td>\n",
              "      <td>0</td>\n",
              "      <td>0</td>\n",
              "      <td>0</td>\n",
              "      <td>0</td>\n",
              "      <td>0</td>\n",
              "      <td>0</td>\n",
              "      <td>0</td>\n",
              "      <td>0</td>\n",
              "      <td>0</td>\n",
              "      <td>0</td>\n",
              "      <td>0</td>\n",
              "      <td>0</td>\n",
              "      <td>0</td>\n",
              "      <td>1</td>\n",
              "      <td>0</td>\n",
              "      <td>0</td>\n",
              "      <td>...</td>\n",
              "      <td>0</td>\n",
              "      <td>0</td>\n",
              "      <td>1</td>\n",
              "      <td>0</td>\n",
              "      <td>0</td>\n",
              "      <td>1</td>\n",
              "      <td>0</td>\n",
              "      <td>0</td>\n",
              "      <td>0</td>\n",
              "      <td>0</td>\n",
              "      <td>0</td>\n",
              "      <td>2</td>\n",
              "      <td>1</td>\n",
              "      <td>0</td>\n",
              "      <td>1</td>\n",
              "      <td>0</td>\n",
              "      <td>1</td>\n",
              "      <td>0</td>\n",
              "      <td>0</td>\n",
              "      <td>0</td>\n",
              "      <td>0</td>\n",
              "      <td>0</td>\n",
              "      <td>0</td>\n",
              "      <td>0</td>\n",
              "      <td>0</td>\n",
              "      <td>0</td>\n",
              "      <td>0</td>\n",
              "      <td>0</td>\n",
              "      <td>0</td>\n",
              "      <td>0</td>\n",
              "      <td>7</td>\n",
              "      <td>1</td>\n",
              "      <td>0</td>\n",
              "      <td>0</td>\n",
              "      <td>0</td>\n",
              "      <td>1</td>\n",
              "      <td>0</td>\n",
              "      <td>0</td>\n",
              "      <td>0</td>\n",
              "      <td>Mobiles</td>\n",
              "    </tr>\n",
              "    <tr>\n",
              "      <th>2</th>\n",
              "      <td>3</td>\n",
              "      <td>0</td>\n",
              "      <td>0</td>\n",
              "      <td>0</td>\n",
              "      <td>0</td>\n",
              "      <td>0</td>\n",
              "      <td>0</td>\n",
              "      <td>0</td>\n",
              "      <td>1</td>\n",
              "      <td>0</td>\n",
              "      <td>0</td>\n",
              "      <td>0</td>\n",
              "      <td>0</td>\n",
              "      <td>0</td>\n",
              "      <td>0</td>\n",
              "      <td>0</td>\n",
              "      <td>0</td>\n",
              "      <td>1</td>\n",
              "      <td>0</td>\n",
              "      <td>0</td>\n",
              "      <td>0</td>\n",
              "      <td>0</td>\n",
              "      <td>0</td>\n",
              "      <td>0</td>\n",
              "      <td>0</td>\n",
              "      <td>0</td>\n",
              "      <td>0</td>\n",
              "      <td>0</td>\n",
              "      <td>0</td>\n",
              "      <td>0</td>\n",
              "      <td>0</td>\n",
              "      <td>0</td>\n",
              "      <td>0</td>\n",
              "      <td>1</td>\n",
              "      <td>0</td>\n",
              "      <td>0</td>\n",
              "      <td>0</td>\n",
              "      <td>0</td>\n",
              "      <td>0</td>\n",
              "      <td>0</td>\n",
              "      <td>...</td>\n",
              "      <td>0</td>\n",
              "      <td>0</td>\n",
              "      <td>0</td>\n",
              "      <td>0</td>\n",
              "      <td>0</td>\n",
              "      <td>6</td>\n",
              "      <td>0</td>\n",
              "      <td>0</td>\n",
              "      <td>2</td>\n",
              "      <td>0</td>\n",
              "      <td>0</td>\n",
              "      <td>0</td>\n",
              "      <td>0</td>\n",
              "      <td>0</td>\n",
              "      <td>0</td>\n",
              "      <td>0</td>\n",
              "      <td>0</td>\n",
              "      <td>0</td>\n",
              "      <td>0</td>\n",
              "      <td>1</td>\n",
              "      <td>0</td>\n",
              "      <td>0</td>\n",
              "      <td>0</td>\n",
              "      <td>0</td>\n",
              "      <td>0</td>\n",
              "      <td>0</td>\n",
              "      <td>0</td>\n",
              "      <td>0</td>\n",
              "      <td>0</td>\n",
              "      <td>0</td>\n",
              "      <td>7</td>\n",
              "      <td>9</td>\n",
              "      <td>0</td>\n",
              "      <td>0</td>\n",
              "      <td>0</td>\n",
              "      <td>9</td>\n",
              "      <td>0</td>\n",
              "      <td>0</td>\n",
              "      <td>0</td>\n",
              "      <td>Mobiles</td>\n",
              "    </tr>\n",
              "    <tr>\n",
              "      <th>3</th>\n",
              "      <td>4</td>\n",
              "      <td>1</td>\n",
              "      <td>0</td>\n",
              "      <td>0</td>\n",
              "      <td>1</td>\n",
              "      <td>6</td>\n",
              "      <td>1</td>\n",
              "      <td>5</td>\n",
              "      <td>0</td>\n",
              "      <td>0</td>\n",
              "      <td>1</td>\n",
              "      <td>1</td>\n",
              "      <td>0</td>\n",
              "      <td>1</td>\n",
              "      <td>0</td>\n",
              "      <td>0</td>\n",
              "      <td>1</td>\n",
              "      <td>1</td>\n",
              "      <td>0</td>\n",
              "      <td>0</td>\n",
              "      <td>0</td>\n",
              "      <td>0</td>\n",
              "      <td>0</td>\n",
              "      <td>0</td>\n",
              "      <td>7</td>\n",
              "      <td>2</td>\n",
              "      <td>2</td>\n",
              "      <td>0</td>\n",
              "      <td>0</td>\n",
              "      <td>0</td>\n",
              "      <td>58</td>\n",
              "      <td>0</td>\n",
              "      <td>10</td>\n",
              "      <td>0</td>\n",
              "      <td>0</td>\n",
              "      <td>0</td>\n",
              "      <td>0</td>\n",
              "      <td>0</td>\n",
              "      <td>3</td>\n",
              "      <td>0</td>\n",
              "      <td>...</td>\n",
              "      <td>0</td>\n",
              "      <td>0</td>\n",
              "      <td>0</td>\n",
              "      <td>2</td>\n",
              "      <td>1</td>\n",
              "      <td>5</td>\n",
              "      <td>0</td>\n",
              "      <td>0</td>\n",
              "      <td>4</td>\n",
              "      <td>0</td>\n",
              "      <td>0</td>\n",
              "      <td>2</td>\n",
              "      <td>1</td>\n",
              "      <td>0</td>\n",
              "      <td>1</td>\n",
              "      <td>0</td>\n",
              "      <td>0</td>\n",
              "      <td>1</td>\n",
              "      <td>1</td>\n",
              "      <td>2</td>\n",
              "      <td>2</td>\n",
              "      <td>0</td>\n",
              "      <td>22</td>\n",
              "      <td>0</td>\n",
              "      <td>1</td>\n",
              "      <td>2</td>\n",
              "      <td>0</td>\n",
              "      <td>0</td>\n",
              "      <td>0</td>\n",
              "      <td>2</td>\n",
              "      <td>7</td>\n",
              "      <td>14</td>\n",
              "      <td>0</td>\n",
              "      <td>15</td>\n",
              "      <td>0</td>\n",
              "      <td>21</td>\n",
              "      <td>0</td>\n",
              "      <td>0</td>\n",
              "      <td>0</td>\n",
              "      <td>Mobiles</td>\n",
              "    </tr>\n",
              "    <tr>\n",
              "      <th>4</th>\n",
              "      <td>5</td>\n",
              "      <td>0</td>\n",
              "      <td>0</td>\n",
              "      <td>0</td>\n",
              "      <td>0</td>\n",
              "      <td>0</td>\n",
              "      <td>0</td>\n",
              "      <td>0</td>\n",
              "      <td>0</td>\n",
              "      <td>0</td>\n",
              "      <td>0</td>\n",
              "      <td>0</td>\n",
              "      <td>0</td>\n",
              "      <td>0</td>\n",
              "      <td>0</td>\n",
              "      <td>0</td>\n",
              "      <td>0</td>\n",
              "      <td>4</td>\n",
              "      <td>0</td>\n",
              "      <td>0</td>\n",
              "      <td>0</td>\n",
              "      <td>0</td>\n",
              "      <td>0</td>\n",
              "      <td>0</td>\n",
              "      <td>1</td>\n",
              "      <td>0</td>\n",
              "      <td>0</td>\n",
              "      <td>0</td>\n",
              "      <td>0</td>\n",
              "      <td>0</td>\n",
              "      <td>0</td>\n",
              "      <td>0</td>\n",
              "      <td>0</td>\n",
              "      <td>0</td>\n",
              "      <td>0</td>\n",
              "      <td>0</td>\n",
              "      <td>0</td>\n",
              "      <td>0</td>\n",
              "      <td>0</td>\n",
              "      <td>0</td>\n",
              "      <td>...</td>\n",
              "      <td>1</td>\n",
              "      <td>0</td>\n",
              "      <td>0</td>\n",
              "      <td>0</td>\n",
              "      <td>0</td>\n",
              "      <td>0</td>\n",
              "      <td>1</td>\n",
              "      <td>0</td>\n",
              "      <td>0</td>\n",
              "      <td>3</td>\n",
              "      <td>0</td>\n",
              "      <td>0</td>\n",
              "      <td>0</td>\n",
              "      <td>0</td>\n",
              "      <td>0</td>\n",
              "      <td>0</td>\n",
              "      <td>0</td>\n",
              "      <td>4</td>\n",
              "      <td>0</td>\n",
              "      <td>1</td>\n",
              "      <td>0</td>\n",
              "      <td>0</td>\n",
              "      <td>0</td>\n",
              "      <td>1</td>\n",
              "      <td>0</td>\n",
              "      <td>0</td>\n",
              "      <td>0</td>\n",
              "      <td>0</td>\n",
              "      <td>1</td>\n",
              "      <td>1</td>\n",
              "      <td>10</td>\n",
              "      <td>7</td>\n",
              "      <td>0</td>\n",
              "      <td>0</td>\n",
              "      <td>0</td>\n",
              "      <td>12</td>\n",
              "      <td>0</td>\n",
              "      <td>0</td>\n",
              "      <td>0</td>\n",
              "      <td>Mobiles</td>\n",
              "    </tr>\n",
              "  </tbody>\n",
              "</table>\n",
              "<p>5 rows × 102 columns</p>\n",
              "</div>"
            ],
            "text/plain": [
              "   id  spec1  spec2  spec3  spec4  ...  spec97  spec98  spec99  spec100  Category\n",
              "0   1      1      0      0      0  ...      12       0       0        0   Mobiles\n",
              "1   2      0      0      0      0  ...       1       0       0        0   Mobiles\n",
              "2   3      0      0      0      0  ...       9       0       0        0   Mobiles\n",
              "3   4      1      0      0      1  ...      21       0       0        0   Mobiles\n",
              "4   5      0      0      0      0  ...      12       0       0        0   Mobiles\n",
              "\n",
              "[5 rows x 102 columns]"
            ]
          },
          "metadata": {
            "tags": []
          },
          "execution_count": 28
        }
      ]
    },
    {
      "cell_type": "code",
      "metadata": {
        "colab": {
          "base_uri": "https://localhost:8080/"
        },
        "id": "OQzJMw0he_Yx",
        "outputId": "3dfe2065-c69e-4c96-d1be-8a1daf78200b"
      },
      "source": [
        "menu_train['Category'].value_counts()"
      ],
      "execution_count": null,
      "outputs": [
        {
          "output_type": "execute_result",
          "data": {
            "text/plain": [
              "Tablets          13079\n",
              "Personal_Care    11452\n",
              "Appliances        6863\n",
              "Laptops           6466\n",
              "Camara            3964\n",
              "Accessories       2341\n",
              "Ipod              2217\n",
              "TV                2182\n",
              "Mobiles           1558\n",
              "Name: Category, dtype: int64"
            ]
          },
          "metadata": {
            "tags": []
          },
          "execution_count": 30
        }
      ]
    },
    {
      "cell_type": "code",
      "metadata": {
        "colab": {
          "base_uri": "https://localhost:8080/"
        },
        "id": "OYvMVJ4DffKG",
        "outputId": "2f80aeb8-44c3-4142-9d83-48ab240e8fcb"
      },
      "source": [
        "###buildng Decision tree on the training data ####\n",
        "from sklearn import tree\n",
        "tree = tree.DecisionTreeClassifier()\n",
        "tree.fit(g,h)\n"
      ],
      "execution_count": null,
      "outputs": [
        {
          "output_type": "execute_result",
          "data": {
            "text/plain": [
              "DecisionTreeClassifier(ccp_alpha=0.0, class_weight=None, criterion='gini',\n",
              "                       max_depth=None, max_features=None, max_leaf_nodes=None,\n",
              "                       min_impurity_decrease=0.0, min_impurity_split=None,\n",
              "                       min_samples_leaf=1, min_samples_split=2,\n",
              "                       min_weight_fraction_leaf=0.0, presort='deprecated',\n",
              "                       random_state=None, splitter='best')"
            ]
          },
          "metadata": {
            "tags": []
          },
          "execution_count": 31
        }
      ]
    },
    {
      "cell_type": "code",
      "metadata": {
        "colab": {
          "base_uri": "https://localhost:8080/"
        },
        "id": "lAR__jOWfkto",
        "outputId": "cf96deb3-337b-4438-fe04-bbfc5d3e6195"
      },
      "source": [
        "#####predicting on test data ####\n",
        "tree_predict=tree.predict(menu_test[lab])\n",
        "\n",
        "from sklearn.metrics import confusion_matrix###for using confusion matrix###\n",
        "cm1 = confusion_matrix(menu_test['Category'],tree_predict)\n",
        "print(cm1)\n"
      ],
      "execution_count": null,
      "outputs": [
        {
          "output_type": "stream",
          "text": [
            "[[ 252   42   12    5   53   22   48   16   48]\n",
            " [  45 1290   68    4   30   62   75    7   20]\n",
            " [  19   65  715    3   15   77   49    3   45]\n",
            " [   3    3    3  483    7    7    0    4   12]\n",
            " [  52   22   10    3  731    5   16   93  606]\n",
            " [  24   64   71    1   13  141   38    1   18]\n",
            " [  58   65   54    1   17   28 2415   15   30]\n",
            " [  19    6    1    1  100    4   30  199  149]\n",
            " [  48   37   30   12  615   14   30  140 2117]]\n"
          ],
          "name": "stdout"
        }
      ]
    },
    {
      "cell_type": "code",
      "metadata": {
        "colab": {
          "base_uri": "https://localhost:8080/"
        },
        "id": "XEYAI84vgkw-",
        "outputId": "ac4bf784-2258-40ff-f998-a7e8da2d1a7b"
      },
      "source": [
        "## From Confusion Matrix calculate Accuracy\n",
        "import sklearn.metrics as smetrics\n",
        "smetrics.accuracy_score(menu_test['Category'],tree_predict)"
      ],
      "execution_count": null,
      "outputs": [
        {
          "output_type": "execute_result",
          "data": {
            "text/plain": [
              "0.7096801633208575"
            ]
          },
          "metadata": {
            "tags": []
          },
          "execution_count": 37
        }
      ]
    },
    {
      "cell_type": "code",
      "metadata": {
        "colab": {
          "base_uri": "https://localhost:8080/"
        },
        "id": "N4MjtNccflc2",
        "outputId": "f7abe9a1-e981-4342-a9f4-8da8cb1fea90"
      },
      "source": [
        "##Gradient BOOSTING ##\n",
        "\n",
        "###Building a gradient boosting clssifier ###\n",
        "from sklearn import ensemble\n",
        "from sklearn.ensemble import GradientBoostingClassifier\n",
        "boost=GradientBoostingClassifier(loss='deviance',\n",
        "                                 learning_rate=0.1,\n",
        "                                 n_estimators=100, #Number of iterations\n",
        "                                 min_samples_leaf=5,\n",
        "                                 max_depth=3,\n",
        "                                 verbose=1)\n",
        "\n",
        "##calculating the time while fitting the Gradient boosting classifier\n",
        "import datetime\n",
        "start_time = datetime.datetime.now()\n",
        "##fitting the gradient boost classifier\n",
        "boost.fit(g,h)\n",
        "end_time = datetime.datetime.now()\n",
        "print(end_time-start_time)\n"
      ],
      "execution_count": null,
      "outputs": [
        {
          "output_type": "stream",
          "text": [
            "      Iter       Train Loss   Remaining Time \n",
            "         1       83601.3278            3.70m\n",
            "         2       76455.1290            3.67m\n",
            "         3       71197.6703            3.62m\n",
            "         4       66948.0468            3.58m\n",
            "         5       63463.2613            3.54m\n",
            "         6       60494.9142            3.51m\n",
            "         7       57994.3798            3.48m\n",
            "         8       55875.3214            3.44m\n",
            "         9       53866.0839            3.40m\n",
            "        10       52096.2352            3.37m\n",
            "        20       41873.9097            3.00m\n",
            "        30       37026.0952            2.62m\n",
            "        40       34376.7404            2.25m\n",
            "        50       32560.6629            1.88m\n",
            "        60       31255.4565            1.51m\n",
            "        70       30161.3067            1.13m\n",
            "        80       29313.5813           45.09s\n",
            "        90       28575.6133           22.53s\n",
            "       100       27917.1192            0.00s\n",
            "0:03:45.458981\n"
          ],
          "name": "stdout"
        }
      ]
    },
    {
      "cell_type": "code",
      "metadata": {
        "colab": {
          "base_uri": "https://localhost:8080/"
        },
        "id": "DgK3NLj4bsV9",
        "outputId": "1cac0084-0a02-4543-958d-c83ce9ccca57"
      },
      "source": [
        "\n",
        "\n",
        "###predicting Gradient boosting model on the test Data\n",
        "boost_predict=boost.predict(menu_test[lab])\n",
        "\n",
        "from sklearn.metrics import confusion_matrix ## for using confusion Matrix\n",
        "cm2 = confusion_matrix(menu_test['Category'],boost_predict)\n",
        "print(cm2)\n",
        "\n",
        "#Accuracy\n",
        "import sklearn.metrics as smetrics\n",
        "smetrics.accuracy_score(menu_test['Category'], boost_predict)\n",
        "\n",
        "\n",
        "# from sklearn.metrics import f1_score\n",
        "# f1_score(menu_test['Category'], boost_predict, average='micro')\n",
        "\n",
        "\n",
        "\n",
        "\n"
      ],
      "execution_count": null,
      "outputs": [
        {
          "output_type": "stream",
          "text": [
            "[[ 306   29    0    1   26   10   40    7   79]\n",
            " [  14 1457   31    1    3   20   47    0   28]\n",
            " [   3   39  850    2    0   25   41    0   31]\n",
            " [   0    1    0  500    1    0    0    1   19]\n",
            " [  22    5    6    0  678    0    2   23  802]\n",
            " [   7   73   80    0    5  146   32    0   28]\n",
            " [  37   35   34    1    2   11 2516    2   45]\n",
            " [   7    1    0    3   72    0   21  169  236]\n",
            " [  18    8    6    9  331    0    8   23 2640]]\n"
          ],
          "name": "stdout"
        },
        {
          "output_type": "execute_result",
          "data": {
            "text/plain": [
              "0.787853011228309"
            ]
          },
          "metadata": {
            "tags": []
          },
          "execution_count": 34
        }
      ]
    }
  ]
}