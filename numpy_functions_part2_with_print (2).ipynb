{
  "cells": [
    {
      "cell_type": "code",
      "execution_count": null,
      "id": "3afd2943",
      "metadata": {
        "id": "3afd2943"
      },
      "outputs": [],
      "source": [
        "import numpy as np\n",
        "# np.var()\n",
        "# Description: Calculates the variance of an array.\n",
        "# Example:\n",
        "arr = np.var(np.array([1, 2, 3]))\n",
        "print(arr)\n"
      ]
    },
    {
      "cell_type": "code",
      "execution_count": null,
      "id": "417d10fa",
      "metadata": {
        "id": "417d10fa"
      },
      "outputs": [],
      "source": [
        "# np.sum()\n",
        "# Description: Calculates the sum of an array.\n",
        "# Example:\n",
        "arr = np.sum(np.array([1, 2, 3]))\n",
        "print(arr)\n"
      ]
    },
    {
      "cell_type": "code",
      "execution_count": null,
      "id": "2f911b85",
      "metadata": {
        "id": "2f911b85"
      },
      "outputs": [],
      "source": [
        "# np.prod()\n",
        "# Description: Calculates the product of an array.\n",
        "# Example:\n",
        "arr = np.prod(np.array([1, 2, 3]))\n",
        "print(arr)\n"
      ]
    },
    {
      "cell_type": "code",
      "execution_count": null,
      "id": "28eeb6e5",
      "metadata": {
        "id": "28eeb6e5"
      },
      "outputs": [],
      "source": [
        "# np.cumsum()\n",
        "# Description: Calculates the cumulative sum of an array.\n",
        "# Example:\n",
        "arr = np.cumsum(np.array([1, 2, 3]))\n",
        "print(arr)\n"
      ]
    },
    {
      "cell_type": "code",
      "execution_count": null,
      "id": "2c773a3b",
      "metadata": {
        "id": "2c773a3b"
      },
      "outputs": [],
      "source": [
        "# np.cumprod()\n",
        "# Description: Calculates the cumulative product of an array.\n",
        "# Example:\n",
        "arr = np.cumprod(np.array([1, 2, 3]))\n",
        "print(arr)\n"
      ]
    },
    {
      "cell_type": "code",
      "execution_count": null,
      "id": "e0b15cf0",
      "metadata": {
        "id": "e0b15cf0"
      },
      "outputs": [],
      "source": [
        "# np.diff()\n",
        "# Description: Calculates the n-th discrete difference along a given axis.\n",
        "# Example:\n",
        "arr = np.diff(np.array([1, 2, 3]))\n",
        "print(arr)\n"
      ]
    },
    {
      "cell_type": "code",
      "execution_count": null,
      "id": "f2ca506c",
      "metadata": {
        "id": "f2ca506c"
      },
      "outputs": [],
      "source": [
        "# np.clip()\n",
        "# Description: Clips (limits) the values in an array.\n",
        "# Example:\n",
        "arr = np.clip(np.array([1, 2, 3]), 1, 2)\n",
        "print(arr)\n"
      ]
    },
    {
      "cell_type": "code",
      "execution_count": null,
      "id": "94c7152c",
      "metadata": {
        "id": "94c7152c"
      },
      "outputs": [],
      "source": [
        "# np.sin()\n",
        "# Description: Calculates the sine of each element in the array.\n",
        "# Example:\n",
        "arr = np.sin(np.array([0, np.pi/2, np.pi]))\n",
        "print(arr)\n"
      ]
    },
    {
      "cell_type": "code",
      "execution_count": null,
      "id": "a0999f3f",
      "metadata": {
        "id": "a0999f3f"
      },
      "outputs": [],
      "source": [
        "# np.cos()\n",
        "# Description: Calculates the cosine of each element in the array.\n",
        "# Example:\n",
        "arr = np.cos(np.array([0, np.pi/2, np.pi]))\n",
        "print(arr)\n"
      ]
    },
    {
      "cell_type": "code",
      "execution_count": null,
      "id": "d71ded08",
      "metadata": {
        "id": "d71ded08"
      },
      "outputs": [],
      "source": [
        "# np.tan()\n",
        "# Description: Calculates the tangent of each element in the array.\n",
        "# Example:\n",
        "arr = np.tan(np.array([0, np.pi/4, np.pi/2]))\n",
        "print(arr)\n"
      ]
    },
    {
      "cell_type": "code",
      "execution_count": null,
      "id": "7d7957c9",
      "metadata": {
        "id": "7d7957c9"
      },
      "outputs": [],
      "source": [
        "# np.exp()\n",
        "# Description: Calculates the exponential of all elements in the input array.\n",
        "# Example:\n",
        "arr = np.exp(np.array([0, 1, 2]))\n",
        "print(arr)\n"
      ]
    },
    {
      "cell_type": "code",
      "execution_count": null,
      "id": "3e7ece4c",
      "metadata": {
        "id": "3e7ece4c"
      },
      "outputs": [],
      "source": [
        "# np.log()\n",
        "# Description: Calculates the natural logarithm of all elements in the input array.\n",
        "# Example:\n",
        "arr = np.log(np.array([1, np.e, np.e**2]))\n",
        "print(arr)\n"
      ]
    },
    {
      "cell_type": "code",
      "execution_count": null,
      "id": "cdf2fb2e",
      "metadata": {
        "id": "cdf2fb2e"
      },
      "outputs": [],
      "source": [
        "# np.log10()\n",
        "# Description: Calculates the base-10 logarithm of all elements in the input array.\n",
        "# Example:\n",
        "arr = np.log10(np.array([1, 10, 100]))\n",
        "print(arr)\n"
      ]
    },
    {
      "cell_type": "code",
      "execution_count": null,
      "id": "e19a2d91",
      "metadata": {
        "id": "e19a2d91"
      },
      "outputs": [],
      "source": [
        "# np.sqrt()\n",
        "# Description: Calculates the square root of each element in the array.\n",
        "# Example:\n",
        "arr = np.sqrt(np.array([1, 4, 9]))\n",
        "print(arr)\n"
      ]
    },
    {
      "cell_type": "code",
      "execution_count": null,
      "id": "e269eb72",
      "metadata": {
        "id": "e269eb72"
      },
      "outputs": [],
      "source": [
        "# np.power()\n",
        "# Description: Raises each element in the array to the specified power.\n",
        "# Example:\n",
        "arr = np.power(np.array([1, 2, 3]), 2)\n",
        "print(arr)\n"
      ]
    },
    {
      "cell_type": "code",
      "execution_count": null,
      "id": "32c900b0",
      "metadata": {
        "id": "32c900b0"
      },
      "outputs": [],
      "source": [
        "# np.mod()\n",
        "# Description: Calculates the remainder of the division of the elements.\n",
        "# Example:\n",
        "arr = np.mod(np.array([1, 2, 3]), 2)\n",
        "print(arr)\n"
      ]
    },
    {
      "cell_type": "code",
      "execution_count": null,
      "id": "0ac5f0c7",
      "metadata": {
        "id": "0ac5f0c7"
      },
      "outputs": [],
      "source": [
        "# np.absolute()\n",
        "# Description: Calculates the absolute value element-wise.\n",
        "# Example:\n",
        "arr = np.absolute(np.array([-1, -2, 3]))\n",
        "print(arr)\n"
      ]
    },
    {
      "cell_type": "code",
      "execution_count": null,
      "id": "a602ba29",
      "metadata": {
        "id": "a602ba29"
      },
      "outputs": [],
      "source": [
        "# np.sign()\n",
        "# Description: Returns an element-wise indication of the sign of a number.\n",
        "# Example:\n",
        "arr = np.sign(np.array([-1, 0, 2]))\n",
        "print(arr)\n"
      ]
    },
    {
      "cell_type": "code",
      "execution_count": null,
      "id": "599cf28c",
      "metadata": {
        "id": "599cf28c"
      },
      "outputs": [],
      "source": [
        "# np.floor()\n",
        "# Description: Returns the floor of the input, element-wise.\n",
        "# Example:\n",
        "arr = np.floor(np.array([1.2, 2.5, 3.8]))\n",
        "print(arr)\n"
      ]
    },
    {
      "cell_type": "code",
      "execution_count": null,
      "id": "c4e61a48",
      "metadata": {
        "id": "c4e61a48"
      },
      "outputs": [],
      "source": [
        "# np.ceil()\n",
        "# Description: Returns the ceiling of the input, element-wise.\n",
        "# Example:\n",
        "arr = np.ceil(np.array([1.2, 2.5, 3.8]))\n",
        "print(arr)\n"
      ]
    },
    {
      "cell_type": "code",
      "execution_count": null,
      "id": "9ba8e1d4",
      "metadata": {
        "id": "9ba8e1d4"
      },
      "outputs": [],
      "source": [
        "# np.round()\n",
        "# Description: Rounds an array to the given number of decimals.\n",
        "# Example:\n",
        "arr = np.round(np.array([1.234, 2.567, 3.891]), 1)\n",
        "print(arr)\n"
      ]
    },
    {
      "cell_type": "code",
      "execution_count": null,
      "id": "9405bcdd",
      "metadata": {
        "id": "9405bcdd"
      },
      "outputs": [],
      "source": [
        "# np.meshgrid()\n",
        "# Description: Returns coordinate matrices from coordinate vectors.\n",
        "# Example:\n",
        "x, y = np.meshgrid(np.array([1, 2, 3]), np.array([4, 5, 6]))\n",
        "print(x)\n",
        "print(y)\n"
      ]
    },
    {
      "cell_type": "code",
      "execution_count": null,
      "id": "5011266e",
      "metadata": {
        "id": "5011266e"
      },
      "outputs": [],
      "source": [
        "# np.where()\n",
        "# Description: Returns elements chosen from x or y depending on condition.\n",
        "# Example:\n",
        "arr = np.where(np.array([True, False]), np.array([1, 2]), np.array([3, 4]))\n",
        "print(arr)\n"
      ]
    },
    {
      "cell_type": "code",
      "execution_count": null,
      "id": "218c3ae6",
      "metadata": {
        "id": "218c3ae6"
      },
      "outputs": [],
      "source": [
        "# np.unique()\n",
        "# Description: Finds the unique elements of an array.\n",
        "# Example:\n",
        "arr = np.unique(np.array([1, 2, 2, 3, 4]))\n",
        "print(arr)\n"
      ]
    },
    {
      "cell_type": "code",
      "execution_count": null,
      "id": "c0c440de",
      "metadata": {
        "id": "c0c440de"
      },
      "outputs": [],
      "source": [
        "# np.invert()\n",
        "# Description: Inverts the bits of the integer elements.\n",
        "# Example:\n",
        "arr = np.invert(np.array([1, 2, 3], dtype=np.uint8))\n",
        "print(arr)\n"
      ]
    }
  ],
  "metadata": {
    "colab": {
      "provenance": []
    }
  },
  "nbformat": 4,
  "nbformat_minor": 5
}